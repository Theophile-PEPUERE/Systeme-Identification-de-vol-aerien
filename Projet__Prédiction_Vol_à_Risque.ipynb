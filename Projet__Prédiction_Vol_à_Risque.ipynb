{
  "cells": [
    {
      "cell_type": "markdown",
      "metadata": {
        "id": "2mm5Anoa8gLh"
      },
      "source": [
        "**Projet Accident aérien**"
      ]
    },
    {
      "cell_type": "markdown",
      "metadata": {
        "id": "r_dp6Se78lyx"
      },
      "source": [
        "**1 - Extraction des titres**"
      ]
    },
    {
      "cell_type": "code",
      "execution_count": null,
      "metadata": {
        "colab": {
          "base_uri": "https://localhost:8080/"
        },
        "id": "WgpWd4H-_YT3",
        "outputId": "f89ca3a6-1792-4318-982f-c2b0ace0a223"
      },
      "outputs": [
        {
          "name": "stdout",
          "output_type": "stream",
          "text": [
            "Collecting PyPDF2\n",
            "  Downloading pypdf2-3.0.1-py3-none-any.whl (232 kB)\n",
            "\u001b[2K     \u001b[90m━━━━━━━━━━━━━━━━━━━━━━━━━━━━━━━━━━━━━━━━\u001b[0m \u001b[32m232.6/232.6 kB\u001b[0m \u001b[31m813.8 kB/s\u001b[0m eta \u001b[36m0:00:00\u001b[0m\n",
            "\u001b[?25hInstalling collected packages: PyPDF2\n",
            "Successfully installed PyPDF2-3.0.1\n"
          ]
        }
      ],
      "source": [
        "! pip install PyPDF2"
      ]
    },
    {
      "cell_type": "code",
      "execution_count": null,
      "metadata": {
        "colab": {
          "base_uri": "https://localhost:8080/"
        },
        "id": "dvnNrXCE_fa7",
        "outputId": "9a6d597f-df06-42f5-c5dd-2ff3cf20eead"
      },
      "outputs": [
        {
          "name": "stdout",
          "output_type": "stream",
          "text": [
            "Reading package lists... Done\n",
            "Building dependency tree... Done\n",
            "Reading state information... Done\n",
            "The following NEW packages will be installed:\n",
            "  python3-pypdf2\n",
            "0 upgraded, 1 newly installed, 0 to remove and 24 not upgraded.\n",
            "Need to get 51.0 kB of archives.\n",
            "After this operation, 264 kB of additional disk space will be used.\n",
            "Get:1 http://archive.ubuntu.com/ubuntu jammy-updates/universe amd64 python3-pypdf2 all 1.26.0-4ubuntu0.22.04.2 [51.0 kB]\n",
            "Fetched 51.0 kB in 1s (93.6 kB/s)\n",
            "Selecting previously unselected package python3-pypdf2.\n",
            "(Reading database ... 121666 files and directories currently installed.)\n",
            "Preparing to unpack .../python3-pypdf2_1.26.0-4ubuntu0.22.04.2_all.deb ...\n",
            "Unpacking python3-pypdf2 (1.26.0-4ubuntu0.22.04.2) ...\n",
            "Setting up python3-pypdf2 (1.26.0-4ubuntu0.22.04.2) ...\n"
          ]
        }
      ],
      "source": [
        "! apt-get install python3-pypdf2"
      ]
    },
    {
      "cell_type": "code",
      "execution_count": null,
      "metadata": {
        "colab": {
          "base_uri": "https://localhost:8080/"
        },
        "id": "McwRJh-_sTXt",
        "outputId": "887b99d4-253d-4a9e-9767-e16197c69ed0"
      },
      "outputs": [
        {
          "name": "stdout",
          "output_type": "stream",
          "text": [
            "Extraction et enregistrement dans le fichier CSV terminés.\n"
          ]
        }
      ],
      "source": [
        "import os\n",
        "import PyPDF2\n",
        "import csv\n",
        "\n",
        "# Chemin d'accès vers le dossier contenant les fichiers PDF\n",
        "pdf_folder_path = r\"/content/drive/MyDrive/TPE_Mon_Travail/Rapport_BEA\"\n",
        "\n",
        "# Chemin d'accès vers le fichier CSV de sortie\n",
        "csv_output_path = r\"/content/drive/MyDrive/TPE_Mon_Travail/dataset_title.csv\"\n",
        "\n",
        "# Créer un fichier CSV pour stocker les données\n",
        "with open(csv_output_path, 'w', newline='', encoding='utf-8') as csv_file:\n",
        "    csv_writer = csv.writer(csv_file)\n",
        "    csv_writer.writerow(['id', 'pdf_title'])  # Écrire l'en-tête du CSV\n",
        "\n",
        "    # Liste des noms de fichiers PDF\n",
        "    pdf_file_names = os.listdir(pdf_folder_path)\n",
        "\n",
        "    # Parcourir chaque fichier PDF\n",
        "    for idx, pdf_file_name in enumerate(pdf_file_names, start=1):  # Commencer à partir de 1\n",
        "        pdf_file_path = os.path.join(pdf_folder_path, pdf_file_name)\n",
        "\n",
        "        # Vérifier si c'est un fichier (et non un répertoire)\n",
        "        if os.path.isfile(pdf_file_path) and pdf_file_path.lower().endswith('.pdf'):\n",
        "            # Supprimer le texte \"Conséquences et dommages\" du nom du fichier\n",
        "            pdf_file_name = pdf_file_name.replace(\"Conséquences et dommages\", \"\").strip()\n",
        "\n",
        "            # Utiliser PyPDF2 pour extraire le texte du PDF\n",
        "            with open(pdf_file_path, 'rb') as pdf_file:\n",
        "                pdf_reader = PyPDF2.PdfReader(pdf_file)\n",
        "                pdf_text = \"\"\n",
        "                for page_num in range(len(pdf_reader.pages)):\n",
        "                    pdf_text += pdf_reader.pages[page_num].extract_text()\n",
        "\n",
        "                # Extraire la valeur de l'attribut \"Conséquences et dommages\"\n",
        "                start_idx = pdf_text.find(\"Conséquences et dommages\")\n",
        "                end_idx = pdf_text.find(\"\\n\", start_idx)\n",
        "                consequence_value = pdf_text[start_idx:end_idx].strip()\n",
        "\n",
        "                # Écrire les données dans le fichier CSV\n",
        "                csv_writer.writerow([idx, pdf_file_name, consequence_value])\n",
        "\n",
        "print(\"Extraction et enregistrement dans le fichier CSV terminés.\")\n"
      ]
    },
    {
      "cell_type": "markdown",
      "metadata": {
        "id": "4djzfUi4AHaR"
      },
      "source": [
        "**2 - Nettoyage des titres extraits**"
      ]
    },
    {
      "cell_type": "code",
      "execution_count": null,
      "metadata": {
        "colab": {
          "base_uri": "https://localhost:8080/"
        },
        "id": "W2ItZrkyBNfc",
        "outputId": "182c80aa-d731-4416-f577-fd3daf3f848c"
      },
      "outputs": [
        {
          "name": "stdout",
          "output_type": "stream",
          "text": [
            "                   id                                     pdf_title\n",
            "1          F-HPTI.pdf               Hélicoptère fortement endommagé\n",
            "2           21AJD.pdf                   Pilote décédé avion détruit\n",
            "3          F-GTPV.pdf        Pilote passagers décédés avion détruit\n",
            "4          F-HMYY.pdf       Pilote deux passagers décédés passagère\n",
            "5          F-GYFR.pdf                               passager blessé\n",
            "..                ...                                           ...\n",
            "196  BEA2020-0165.pdf         Pilote gravement blessé avion détruit\n",
            "197  BEA2020-0418.pdf                    Ballon fortement endommagé\n",
            "198  BEA2019-0289.pdf           Élèvepilote légèrement blessé avion\n",
            "199  BEA2020-0373.pdf  Pilote décédé avion détruit avion dispositif\n",
            "200  BEA2020-0094.pdf  Personne aux commandes décédée avion détruit\n",
            "\n",
            "[200 rows x 2 columns]\n"
          ]
        }
      ],
      "source": [
        "import pandas as pd\n",
        "import re\n",
        "\n",
        "# Chemin vers le fichier CSV\n",
        "csv_file_path = r\"/content/drive/MyDrive/TPE_Mon_Travail/dataset_title.csv\"\n",
        "\n",
        "# Lire le fichier CSV en utilisant pandas\n",
        "data = pd.read_csv(csv_file_path, encoding='utf-8')\n",
        "\n",
        "# Supprimer l'expression \"Conséquences et dommages\" de la colonne \"pdf_title\"\n",
        "data['pdf_title'] = data['pdf_title'].str.replace('Conséquences et dommages', '')\n",
        "\n",
        "# Supprimer l'expression \"Sauf précision\" de la colonne \"pdf_title\"\n",
        "data['pdf_title'] = data['pdf_title'].str.replace('Sauf précision', '')\n",
        "\n",
        "# Liste des articles à supprimer\n",
        "articles_a_supprimer = [\"le\", \"la\", \"les\", \"de\", \"du\", \"des\", \"un\", \"une\", \"au\", \"avant\", \"à\", \"et\", \"en\", \"dans\", \"que\", \"qui\", \"qu'\", \"autre\", \"dont\", \"sur\", \"il\", \"nous\", \"ce\", \"ces\", \"se\", \"donc\", \"alors\"]\n",
        "\n",
        "# Fonction pour nettoyer le texte en supprimant les articles, la ponctuation et les caractères spéciaux\n",
        "def nettoyer_texte(texte):\n",
        "    # Convertir la valeur en chaîne de caractères\n",
        "    texte = str(texte)\n",
        "\n",
        "    # Supprimer la ponctuation et les caractères spéciaux avec une expression régulière\n",
        "    texte = re.sub(r'[^\\w\\s]', '', texte)\n",
        "\n",
        "    # Gérer le cas de \"d étruit\" spécifiquement\n",
        "    texte = re.sub(r'\\bd\\sétruit\\b', 'détruit', texte, flags=re.IGNORECASE)\n",
        "\n",
        "    # Utiliser une expression régulière pour séparer les mots\n",
        "    mots = re.findall(r'\\b\\w+\\b', texte)\n",
        "\n",
        "    # Filtrer les mots en supprimant les articles et autres mots spécifiques\n",
        "    mots_filtrés = [mot for mot in mots if mot.lower() not in articles_a_supprimer]\n",
        "\n",
        "    # Rejoindre les mots filtrés pour former le texte nettoyé\n",
        "    texte_nettoyé = ' '.join(mots_filtrés)\n",
        "\n",
        "    # Remplacer les mots spécifiques\n",
        "    mots_a_remplacer = [\"ULM\", \"paramoteur\", \"hélicoptère\", \"aéronef\", \"planeur\", \"Planeur\"]\n",
        "    for mot in mots_a_remplacer:\n",
        "        texte_nettoyé = texte_nettoyé.replace(mot, 'avion')\n",
        "\n",
        "    return texte_nettoyé\n",
        "\n",
        "# Appliquer la fonction de nettoyage à la colonne \"pdf_title\"\n",
        "data['pdf_title'] = data['pdf_title'].apply(nettoyer_texte)\n",
        "\n",
        "# Supprimer les caractères numériques\n",
        "data['pdf_title'] = data['pdf_title'].apply(lambda x: re.sub(r'\\d', '', x))\n",
        "\n",
        "# Enregistrer le résultat dans un nouveau fichier CSV\n",
        "cleaned_csv_file_path = r\"/content/drive/MyDrive/TPE_Mon_Travail/BD1_Title.csv\"\n",
        "data.to_csv(cleaned_csv_file_path, index=False)\n",
        "\n",
        "# Afficher les premières lignes du DataFrame nettoyé\n",
        "print(data)\n"
      ]
    },
    {
      "cell_type": "markdown",
      "metadata": {
        "id": "l5lb1kN6W6SY"
      },
      "source": [
        "**3 - Lemmatisation** **du** **contenu** **pdf_title**"
      ]
    },
    {
      "cell_type": "code",
      "execution_count": null,
      "metadata": {
        "colab": {
          "base_uri": "https://localhost:8080/"
        },
        "id": "MLAnwUXH6ktk",
        "outputId": "a91f3621-241c-4ec7-8865-70fea6270745"
      },
      "outputs": [
        {
          "name": "stdout",
          "output_type": "stream",
          "text": [
            "                   id                            pdf_title_lemmatized\n",
            "0          F-HPTI.pdf                hélicoptère fortement endommager\n",
            "1           21AJD.pdf                   pilote décéder avion détruire\n",
            "2          F-GTPV.pdf          pilote passager décéder avion détruire\n",
            "3          F-HMYY.pdf           pilote deux passager décéder passager\n",
            "4          F-GYFR.pdf                                passager blesser\n",
            "..                ...                                             ...\n",
            "195  BEA2020-0165.pdf         pilote gravement blesser avion détruire\n",
            "196  BEA2020-0418.pdf                     Ballon fortement endommager\n",
            "197  BEA2019-0289.pdf            élèvepilote légèrement blesser avion\n",
            "198  BEA2020-0373.pdf  pilote décéder avion détruire avion dispositif\n",
            "199  BEA2020-0094.pdf      personne à commande décéder avion détruire\n",
            "\n",
            "[200 rows x 2 columns]\n"
          ]
        }
      ],
      "source": [
        "import spacy\n",
        "import pandas as pd\n",
        "\n",
        "# Charger le modèle téléchargé\n",
        "nlp = spacy.load(\"fr_core_news_lg\")\n",
        "\n",
        "# Chemin d'entrée et de sortie des fichiers CSV\n",
        "chemin_entree = r\"/content/drive/MyDrive/TPE_Mon_Travail/BD1_Title.csv\"\n",
        "chemin_sortie = r\"/content/drive/MyDrive/TPE_Mon_Travail/BD1_Title_Lemma.csv\"\n",
        "\n",
        "# Lire le fichier CSV en utilisant pandas avec un encodage spécifié\n",
        "data = pd.read_csv(chemin_entree, encoding=\"utf-8\")\n",
        "\n",
        "# Créer une liste pour stocker les résultats\n",
        "resultats = []\n",
        "\n",
        "# Appliquer la transformation sur chaque ligne du fichier\n",
        "for index, row in data.iterrows():\n",
        "    # Vérifier le type de la valeur dans la colonne \"pdf_title\"\n",
        "    if isinstance(row[\"pdf_title\"], str):\n",
        "        # Appliquer le modèle de langue sur le texte de chaque ligne\n",
        "        doc = nlp(row[\"pdf_title\"])\n",
        "\n",
        "        # Lemmatisation des mots dans le texte\n",
        "        lemmes = [token.lemma_ for token in doc]\n",
        "\n",
        "        # Joindre les lemmes pour former un texte lemmatisé\n",
        "        texte_lemmatise = \" \".join(lemmes)\n",
        "\n",
        "        # Ajouter le texte lemmatisé aux résultats\n",
        "        resultats.append([row[\"id\"], texte_lemmatise])  # Stocke l'id et le texte lemmatisé\n",
        "    else:\n",
        "        # Handle other types if needed\n",
        "        resultats.append([row[\"id\"], \"\"])\n",
        "\n",
        "# Créer un DataFrame à partir des résultats\n",
        "df_resultats = pd.DataFrame(resultats, columns=[\"id\", \"pdf_title_lemmatized\"])  # Deux colonnes\n",
        "\n",
        "# Sauvegarder le DataFrame dans le fichier de sortie avec un encodage spécifié\n",
        "df_resultats.to_csv(chemin_sortie, index=False, encoding=\"utf-8\")\n",
        "\n",
        "# Afficher le contenu du fichier de sortie\n",
        "print(df_resultats)\n"
      ]
    },
    {
      "cell_type": "code",
      "execution_count": null,
      "metadata": {
        "id": "vggsWsUnWstm"
      },
      "outputs": [],
      "source": []
    },
    {
      "cell_type": "markdown",
      "metadata": {
        "id": "9i_o-wZlXjyU"
      },
      "source": [
        "**Pourquoi Lemmatiser un contenu de caractère ?**\n",
        "\n",
        "La lemmatisation est un processus important dans le traitement du langage naturel (NLP) qui vise à réduire les mots à leur forme de base ou lemmes. La lemmatisation est effectuée pour plusieurs raisons importantes :\n",
        "\n",
        "**Normalisation :** La lemmatisation contribue à normaliser les mots, en réduisant les mots fléchis ou conjugés à leur forme de base. Par exemple, les mots \"courir\", \"court\", \"courant\", \"courait\" sont tous réduits à leur lemme \"courir\". Cela simplifie la comparaison de mots et améliore la précision des analyses textuelles.\n",
        "\n",
        "**Réduction de la dimension :** La lemmatisation réduit la dimension du vocabulaire en remplaçant les formes fléchies ou dérivées par leurs lemmes correspondants. Cela permet de travailler avec un ensemble de mots plus restreint, ce qui est utile pour la classification, la regroupement (clustering) et d'autres tâches de NLP.\n",
        "\n",
        "**Amélioration de la recherche d'information :** La lemmatisation facilite la recherche de documents pertinents. En réduisant les mots à leur forme de base, la lemmatisation permet d'inclure les formes fléchies et les lemmes dans une recherche, ce qui augmente les chances de trouver des informations pertinentes.\n",
        "\n",
        "**Traitement de la flexion verbale et nominale :** En français, comme dans d'autres langues, les verbes et les noms peuvent prendre de nombreuses formes fléchies. La lemmatisation aide à gérer ces variations, ce qui est particulièrement utile dans le cadre de l'analyse de texte, de la recherche d'information et de la classification.\n",
        "\n",
        "**Amélioration de la cohérence :** La lemmatisation améliore la cohérence en normalisant le texte, ce qui facilite la comparaison de textes et la détection de similitudes.\n",
        "\n",
        "Donc, la lemmatisation est un processus essentiel dans le traitement du langage naturel qui permet de simplifier, normaliser et améliorer la qualité de l'analyse des textes. Elle est particulièrement utile pour rendre les données textuelles plus faciles à traiter, à comparer et à analyser."
      ]
    },
    {
      "cell_type": "markdown",
      "metadata": {
        "id": "2fLWIeztX6yd"
      },
      "source": [
        "**4 - Bag ofword**"
      ]
    },
    {
      "cell_type": "code",
      "execution_count": null,
      "metadata": {
        "colab": {
          "base_uri": "https://localhost:8080/"
        },
        "id": "4JgezF7n9XNv",
        "outputId": "36cccfbd-6b99-465f-fd7b-9d6dd4a9d1f3"
      },
      "outputs": [
        {
          "name": "stdout",
          "output_type": "stream",
          "text": [
            "                   id  agent  arrière  autogir  avion  avoir  aéronef  \\\n",
            "0          F-HPTI.pdf      0        0        0      0      0        0   \n",
            "1           21AJD.pdf      0        0        0      1      0        0   \n",
            "2          F-GTPV.pdf      0        0        0      1      0        0   \n",
            "3          F-HMYY.pdf      0        0        0      0      0        0   \n",
            "4          F-GYFR.pdf      0        0        0      0      0        0   \n",
            "..                ...    ...      ...      ...    ...    ...      ...   \n",
            "195  BEA2020-0165.pdf      0        0        0      1      0        0   \n",
            "196  BEA2020-0418.pdf      0        0        0      0      0        0   \n",
            "197  BEA2019-0289.pdf      0        0        0      1      0        0   \n",
            "198  BEA2020-0373.pdf      0        0        0      2      0        0   \n",
            "199  BEA2020-0094.pdf      0        0        0      1      0        0   \n",
            "\n",
            "     balisage  ballon  blesser  ...  poutre  remorqueur  sol  structure  \\\n",
            "0           0       0        0  ...       0           0    0          0   \n",
            "1           0       0        0  ...       0           0    0          0   \n",
            "2           0       0        0  ...       0           0    0          0   \n",
            "3           0       0        0  ...       0           0    0          0   \n",
            "4           0       0        1  ...       0           0    0          0   \n",
            "..        ...     ...      ...  ...     ...         ...  ...        ...   \n",
            "195         0       0        1  ...       0           0    0          0   \n",
            "196         0       1        0  ...       0           0    0          0   \n",
            "197         0       0        1  ...       0           0    0          0   \n",
            "198         0       0        0  ...       0           0    0          0   \n",
            "199         0       0        0  ...       0           0    0          0   \n",
            "\n",
            "     terme  véhicule  électrique  élever  élève  élèvepilote  \n",
            "0        0         0           0       0      0            0  \n",
            "1        0         0           0       0      0            0  \n",
            "2        0         0           0       0      0            0  \n",
            "3        0         0           0       0      0            0  \n",
            "4        0         0           0       0      0            0  \n",
            "..     ...       ...         ...     ...    ...          ...  \n",
            "195      0         0           0       0      0            0  \n",
            "196      0         0           0       0      0            0  \n",
            "197      0         0           0       0      0            1  \n",
            "198      0         0           0       0      0            0  \n",
            "199      0         0           0       0      0            0  \n",
            "\n",
            "[200 rows x 57 columns]\n"
          ]
        }
      ],
      "source": [
        "import pandas as pd\n",
        "from sklearn.feature_extraction.text import CountVectorizer\n",
        "\n",
        "# Charger le fichier CSV\n",
        "data = pd.read_csv(r\"/content/drive/MyDrive/TPE_Mon_Travail/BD1_Title_Lemma.csv\")  # Assurez-vous que le chemin est correct\n",
        "\n",
        "# Remplacer les NaN par des chaînes vides dans la colonne \"pdf_title_lemmatized\"\n",
        "data[\"pdf_title_lemmatized\"] = data[\"pdf_title_lemmatized\"].fillna(\"\")\n",
        "\n",
        "# Récupérer les textes à partir du DataFrame\n",
        "textes = data[\"pdf_title_lemmatized\"]\n",
        "\n",
        "# Créer une instance du vectoriseur BoW\n",
        "vectorizer = CountVectorizer()\n",
        "\n",
        "# Adapter le vectoriseur aux textes et transformer les textes en vecteurs BoW\n",
        "bow_matrix = vectorizer.fit_transform(textes)\n",
        "\n",
        "# Créer un DataFrame pour les vecteurs BoW\n",
        "bow_df = pd.DataFrame(bow_matrix.toarray(), columns=vectorizer.get_feature_names_out())\n",
        "\n",
        "# Ajouter la colonne \"id\" du DataFrame d'origine en première colonne\n",
        "bow_df.insert(0, \"id\", data[\"id\"])\n",
        "\n",
        "# Enregistrer le DataFrame dans un fichier CSV\n",
        "bow_df.to_csv(r\"/content/drive/MyDrive/TPE_Mon_Travail/BD1-BOW_Title.csv\", index=False)\n",
        "\n",
        "print(bow_df)\n"
      ]
    },
    {
      "cell_type": "markdown",
      "metadata": {
        "id": "IbX39vJwZVim"
      },
      "source": [
        "**Clustering sur le Bag of word**"
      ]
    },
    {
      "cell_type": "markdown",
      "metadata": {
        "id": "pJ0SO7LhrCQ8"
      },
      "source": [
        "**Pour K = 3**"
      ]
    },
    {
      "cell_type": "code",
      "execution_count": null,
      "metadata": {
        "colab": {
          "base_uri": "https://localhost:8080/"
        },
        "id": "LBc-is5jZc7Z",
        "outputId": "bcd01cb6-3168-47cd-82c0-cf946298e8d9"
      },
      "outputs": [
        {
          "name": "stdout",
          "output_type": "stream",
          "text": [
            "Requirement already satisfied: scikit-learn in /usr/local/lib/python3.10/dist-packages (1.2.2)\n",
            "Requirement already satisfied: numpy>=1.17.3 in /usr/local/lib/python3.10/dist-packages (from scikit-learn) (1.23.5)\n",
            "Requirement already satisfied: scipy>=1.3.2 in /usr/local/lib/python3.10/dist-packages (from scikit-learn) (1.11.4)\n",
            "Requirement already satisfied: joblib>=1.1.1 in /usr/local/lib/python3.10/dist-packages (from scikit-learn) (1.3.2)\n",
            "Requirement already satisfied: threadpoolctl>=2.0.0 in /usr/local/lib/python3.10/dist-packages (from scikit-learn) (3.2.0)\n"
          ]
        }
      ],
      "source": [
        "pip install scikit-learn"
      ]
    },
    {
      "cell_type": "code",
      "execution_count": null,
      "metadata": {
        "colab": {
          "base_uri": "https://localhost:8080/"
        },
        "id": "hxxzr-4sZyMT",
        "outputId": "85900dd2-ed19-47b2-81de-bb0a36a16a5c"
      },
      "outputs": [
        {
          "name": "stderr",
          "output_type": "stream",
          "text": [
            "/usr/local/lib/python3.10/dist-packages/sklearn/cluster/_kmeans.py:870: FutureWarning: The default value of `n_init` will change from 10 to 'auto' in 1.4. Set the value of `n_init` explicitly to suppress the warning\n",
            "  warnings.warn(\n"
          ]
        },
        {
          "name": "stdout",
          "output_type": "stream",
          "text": [
            "                   id  agent  arrière  autogir  avion  avoir  aéronef  \\\n",
            "0          F-HPTI.pdf      0        0        0      0      0        0   \n",
            "1           21AJD.pdf      0        0        0      1      0        0   \n",
            "2          F-GTPV.pdf      0        0        0      1      0        0   \n",
            "3          F-HMYY.pdf      0        0        0      0      0        0   \n",
            "4          F-GYFR.pdf      0        0        0      0      0        0   \n",
            "..                ...    ...      ...      ...    ...    ...      ...   \n",
            "195  BEA2020-0165.pdf      0        0        0      1      0        0   \n",
            "196  BEA2020-0418.pdf      0        0        0      0      0        0   \n",
            "197  BEA2019-0289.pdf      0        0        0      1      0        0   \n",
            "198  BEA2020-0373.pdf      0        0        0      2      0        0   \n",
            "199  BEA2020-0094.pdf      0        0        0      1      0        0   \n",
            "\n",
            "     balisage  ballon  blesser  ...  remorqueur  sol  structure  terme  \\\n",
            "0           0       0        0  ...           0    0          0      0   \n",
            "1           0       0        0  ...           0    0          0      0   \n",
            "2           0       0        0  ...           0    0          0      0   \n",
            "3           0       0        0  ...           0    0          0      0   \n",
            "4           0       0        1  ...           0    0          0      0   \n",
            "..        ...     ...      ...  ...         ...  ...        ...    ...   \n",
            "195         0       0        1  ...           0    0          0      0   \n",
            "196         0       1        0  ...           0    0          0      0   \n",
            "197         0       0        1  ...           0    0          0      0   \n",
            "198         0       0        0  ...           0    0          0      0   \n",
            "199         0       0        0  ...           0    0          0      0   \n",
            "\n",
            "     véhicule  électrique  élever  élève  élèvepilote  cluster  \n",
            "0           0           0       0      0            0        0  \n",
            "1           0           0       0      0            0        1  \n",
            "2           0           0       0      0            0        1  \n",
            "3           0           0       0      0            0        1  \n",
            "4           0           0       0      0            0        2  \n",
            "..        ...         ...     ...    ...          ...      ...  \n",
            "195         0           0       0      0            0        2  \n",
            "196         0           0       0      0            0        0  \n",
            "197         0           0       0      0            1        2  \n",
            "198         0           0       0      0            0        1  \n",
            "199         0           0       0      0            0        1  \n",
            "\n",
            "[200 rows x 58 columns]\n"
          ]
        }
      ],
      "source": [
        "import pandas as pd\n",
        "from sklearn.cluster import KMeans\n",
        "import numpy as np\n",
        "\n",
        "# Charger le fichier CSV contenant les vecteurs BoW\n",
        "data = pd.read_csv(r\"/content/drive/MyDrive/TPE_Mon_Travail/BD1-BOW_Title.csv\")\n",
        "\n",
        "# Récupérer la colonne \"id\"\n",
        "ids = data[\"id\"]\n",
        "\n",
        "# Supprimer la colonne \"id\" du DataFrame\n",
        "data.drop(\"id\", axis=1, inplace=True)\n",
        "\n",
        "# Spécifier le nombre de clusters (vous pouvez ajuster ce nombre)\n",
        "nombre_de_clusters = 3\n",
        "\n",
        "# Créer une instance du modèle K-Means\n",
        "kmeans = KMeans(n_clusters=nombre_de_clusters, random_state=0)\n",
        "\n",
        "# Adapter le modèle aux données\n",
        "kmeans.fit(data)\n",
        "\n",
        "# Ajouter les étiquettes de cluster au DataFrame original\n",
        "data[\"cluster\"] = kmeans.labels_\n",
        "\n",
        "# Réinsérer la colonne \"id\" en première colonne\n",
        "data.insert(0, \"id\", ids)\n",
        "\n",
        "# Enregistrer le DataFrame avec les étiquettes de cluster dans un fichier CSV\n",
        "data.to_csv(r\"/content/drive/MyDrive/TPE_Mon_Travail/BD1-Cluster3_Title.csv\", index=False)\n",
        "\n",
        "# Afficher les résultats\n",
        "print(data)\n"
      ]
    },
    {
      "cell_type": "markdown",
      "metadata": {
        "id": "wihYfjXKfhsq"
      },
      "source": [
        "**Représentation graphiques**\n",
        "\n",
        "**Pour K = 3**"
      ]
    },
    {
      "cell_type": "code",
      "execution_count": null,
      "metadata": {
        "colab": {
          "base_uri": "https://localhost:8080/",
          "height": 619
        },
        "id": "cf_9QVJenYux",
        "outputId": "969d4f5c-aa2d-4136-ecfa-11b68f99ff6f"
      },
      "outputs": [
        {
          "name": "stderr",
          "output_type": "stream",
          "text": [
            "/usr/local/lib/python3.10/dist-packages/sklearn/cluster/_kmeans.py:870: FutureWarning: The default value of `n_init` will change from 10 to 'auto' in 1.4. Set the value of `n_init` explicitly to suppress the warning\n",
            "  warnings.warn(\n"
          ]
        },
        {
          "data": {
            "image/png": "[encoded data removed]",
            "text/plain": [
              "<Figure size 800x600 with 1 Axes>"
            ]
          },
          "metadata": {},
          "output_type": "display_data"
        }
      ],
      "source": [
        "import matplotlib.pyplot as plt\n",
        "\n",
        "# Charger le fichier CSV contenant les vecteurs BoW et les étiquettes de cluster\n",
        "data = pd.read_csv(\"/content/drive/MyDrive/TPE_Mon_Travail/BD1-Cluster3_Title.csv\")\n",
        "\n",
        "# Récupérer la colonne \"id\"\n",
        "ids = data[\"id\"]\n",
        "\n",
        "# Supprimer la colonne \"id\" du DataFrame\n",
        "data.drop(\"id\", axis=1, inplace=True)\n",
        "\n",
        "# Spécifier le nombre de clusters (vous pouvez ajuster ce nombre)\n",
        "nombre_de_clusters = 3\n",
        "\n",
        "# Créer une instance du modèle K-Means\n",
        "kmeans = KMeans(n_clusters=nombre_de_clusters, random_state=0)\n",
        "\n",
        "# Adapter le modèle aux données\n",
        "kmeans.fit(data)\n",
        "\n",
        "# Ajouter les étiquettes de cluster au DataFrame original\n",
        "data[\"cluster\"] = kmeans.labels_\n",
        "\n",
        "# Réduire les données en 2 dimensions (ou tout autre nombre de dimensions)\n",
        "from sklearn.decomposition import PCA\n",
        "pca = PCA(n_components=2)\n",
        "data_pca = pca.fit_transform(data.drop(\"cluster\", axis=1))\n",
        "\n",
        "# Ajouter les étiquettes de cluster à la version en 2D des données\n",
        "data_pca = pd.DataFrame(data_pca, columns=[\"Dimension_1\", \"Dimension_2\"])\n",
        "data_pca[\"cluster\"] = data[\"cluster\"]\n",
        "\n",
        "# Créer un nuage de points coloré pour les clusters\n",
        "plt.figure(figsize=(8, 6))\n",
        "colors = ['r', 'g', 'b']  # Couleurs pour chaque cluster\n",
        "for cluster in range(nombre_de_clusters):\n",
        "    plt.scatter(data_pca[data_pca['cluster'] == cluster]['Dimension_1'],\n",
        "                data_pca[data_pca['cluster'] == cluster]['Dimension_2'],\n",
        "                label=f'Cluster {cluster}', c=colors[cluster], s=50)\n",
        "\n",
        "plt.xlabel('Dimension 1')\n",
        "plt.ylabel('Dimension 2')\n",
        "plt.title('Nuage de points des clusters (K=3)')\n",
        "plt.legend()\n",
        "plt.show()\n"
      ]
    },
    {
      "cell_type": "code",
      "execution_count": null,
      "metadata": {
        "colab": {
          "base_uri": "https://localhost:8080/",
          "height": 527
        },
        "id": "zY-HBdTIf3_O",
        "outputId": "f2ea6376-9da2-4b49-a672-24378cc56928"
      },
      "outputs": [
        {
          "name": "stderr",
          "output_type": "stream",
          "text": [
            "/usr/local/lib/python3.10/dist-packages/sklearn/cluster/_kmeans.py:870: FutureWarning: The default value of `n_init` will change from 10 to 'auto' in 1.4. Set the value of `n_init` explicitly to suppress the warning\n",
            "  warnings.warn(\n"
          ]
        },
        {
          "data": {
            "image/png": "[encoded data removed]",
            "text/plain": [
              "<Figure size 640x480 with 1 Axes>"
            ]
          },
          "metadata": {},
          "output_type": "display_data"
        }
      ],
      "source": [
        "import pandas as pd\n",
        "from sklearn.cluster import KMeans\n",
        "import matplotlib.pyplot as plt\n",
        "\n",
        "# Charger le fichier CSV contenant les vecteurs BoW\n",
        "data = pd.read_csv(\"/content/drive/MyDrive/TPE_Mon_Travail/BD1-BOW_Title.csv\")\n",
        "\n",
        "# Récupérer la colonne \"id\"\n",
        "ids = data[\"id\"]\n",
        "\n",
        "# Supprimer la colonne \"id\" du DataFrame\n",
        "data.drop(\"id\", axis=1, inplace=True)\n",
        "\n",
        "# Spécifier le nombre de clusters (vous pouvez ajuster ce nombre)\n",
        "nombre_de_clusters = 3\n",
        "\n",
        "# Créer une instance du modèle K-Means\n",
        "kmeans = KMeans(n_clusters=nombre_de_clusters, random_state=0)\n",
        "\n",
        "# Adapter le modèle aux données\n",
        "kmeans.fit(data)\n",
        "\n",
        "# Ajouter les étiquettes de cluster au DataFrame original\n",
        "data[\"cluster\"] = kmeans.labels_\n",
        "\n",
        "# Créer un histogramme des clusters\n",
        "plt.hist(data[\"cluster\"], bins=range(nombre_de_clusters + 1), align=\"left\", rwidth=0.8)\n",
        "plt.xticks(range(nombre_de_clusters))\n",
        "plt.xlabel(\"Cluster\")\n",
        "plt.ylabel(\"Nombre de données\")\n",
        "plt.title(\"Répartition des données par cluster (K=3)\")\n",
        "plt.show()\n"
      ]
    },
    {
      "cell_type": "markdown",
      "metadata": {
        "id": "O5Sy1h14id11"
      },
      "source": [
        "**Cluster** **Pour K = 4**"
      ]
    },
    {
      "cell_type": "code",
      "execution_count": null,
      "metadata": {
        "colab": {
          "base_uri": "https://localhost:8080/"
        },
        "id": "piUwxahZivKI",
        "outputId": "46df7ea7-c02c-46d0-c9d6-94b210aa03bf"
      },
      "outputs": [
        {
          "name": "stdout",
          "output_type": "stream",
          "text": [
            "                   id  agent  arrière  autogir  avion  avoir  aéronef  \\\n",
            "0          F-HPTI.pdf      0        0        0      0      0        0   \n",
            "1           21AJD.pdf      0        0        0      1      0        0   \n",
            "2          F-GTPV.pdf      0        0        0      1      0        0   \n",
            "3          F-HMYY.pdf      0        0        0      0      0        0   \n",
            "4          F-GYFR.pdf      0        0        0      0      0        0   \n",
            "..                ...    ...      ...      ...    ...    ...      ...   \n",
            "195  BEA2020-0165.pdf      0        0        0      1      0        0   \n",
            "196  BEA2020-0418.pdf      0        0        0      0      0        0   \n",
            "197  BEA2019-0289.pdf      0        0        0      1      0        0   \n",
            "198  BEA2020-0373.pdf      0        0        0      2      0        0   \n",
            "199  BEA2020-0094.pdf      0        0        0      1      0        0   \n",
            "\n",
            "     balisage  ballon  blesser  ...  remorqueur  sol  structure  terme  \\\n",
            "0           0       0        0  ...           0    0          0      0   \n",
            "1           0       0        0  ...           0    0          0      0   \n",
            "2           0       0        0  ...           0    0          0      0   \n",
            "3           0       0        0  ...           0    0          0      0   \n",
            "4           0       0        1  ...           0    0          0      0   \n",
            "..        ...     ...      ...  ...         ...  ...        ...    ...   \n",
            "195         0       0        1  ...           0    0          0      0   \n",
            "196         0       1        0  ...           0    0          0      0   \n",
            "197         0       0        1  ...           0    0          0      0   \n",
            "198         0       0        0  ...           0    0          0      0   \n",
            "199         0       0        0  ...           0    0          0      0   \n",
            "\n",
            "     véhicule  électrique  élever  élève  élèvepilote  cluster  \n",
            "0           0           0       0      0            0        2  \n",
            "1           0           0       0      0            0        1  \n",
            "2           0           0       0      0            0        1  \n",
            "3           0           0       0      0            0        1  \n",
            "4           0           0       0      0            0        3  \n",
            "..        ...         ...     ...    ...          ...      ...  \n",
            "195         0           0       0      0            0        0  \n",
            "196         0           0       0      0            0        2  \n",
            "197         0           0       0      0            1        0  \n",
            "198         0           0       0      0            0        1  \n",
            "199         0           0       0      0            0        1  \n",
            "\n",
            "[200 rows x 58 columns]\n"
          ]
        },
        {
          "name": "stderr",
          "output_type": "stream",
          "text": [
            "/usr/local/lib/python3.10/dist-packages/sklearn/cluster/_kmeans.py:870: FutureWarning: The default value of `n_init` will change from 10 to 'auto' in 1.4. Set the value of `n_init` explicitly to suppress the warning\n",
            "  warnings.warn(\n"
          ]
        }
      ],
      "source": [
        "import pandas as pd\n",
        "from sklearn.cluster import KMeans\n",
        "import numpy as np\n",
        "\n",
        "# Charger le fichier CSV contenant les vecteurs BoW\n",
        "data = pd.read_csv(r\"/content/drive/MyDrive/TPE_Mon_Travail/BD1-BOW_Title.csv\")\n",
        "\n",
        "# Récupérer la colonne \"id\"\n",
        "ids = data[\"id\"]\n",
        "\n",
        "# Supprimer la colonne \"id\" du DataFrame\n",
        "data.drop(\"id\", axis=1, inplace=True)\n",
        "\n",
        "# Spécifier le nombre de clusters (vous pouvez ajuster ce nombre)\n",
        "nombre_de_clusters = 4\n",
        "\n",
        "# Créer une instance du modèle K-Means\n",
        "kmeans = KMeans(n_clusters=nombre_de_clusters, random_state=0)\n",
        "\n",
        "# Adapter le modèle aux données\n",
        "kmeans.fit(data)\n",
        "\n",
        "# Ajouter les étiquettes de cluster au DataFrame original\n",
        "data[\"cluster\"] = kmeans.labels_\n",
        "\n",
        "# Réinsérer la colonne \"id\" en première colonne\n",
        "data.insert(0, \"id\", ids)\n",
        "\n",
        "# Enregistrer le DataFrame avec les étiquettes de cluster dans un fichier CSV\n",
        "data.to_csv(r\"/content/drive/MyDrive/TPE_Mon_Travail/BD1-Cluster4_Title.csv\", index=False)\n",
        "\n",
        "# Afficher les résultats\n",
        "print(data)\n"
      ]
    },
    {
      "cell_type": "markdown",
      "metadata": {
        "id": "tUYh6C8zrrXG"
      },
      "source": [
        "**Représentation graphiques**\n",
        "\n",
        "**Pour K = 4**"
      ]
    },
    {
      "cell_type": "code",
      "execution_count": null,
      "metadata": {
        "colab": {
          "base_uri": "https://localhost:8080/",
          "height": 586
        },
        "id": "YUMAvjECk8nU",
        "outputId": "f095e0d4-be14-4af2-b67e-6d60bfdc083d"
      },
      "outputs": [
        {
          "name": "stderr",
          "output_type": "stream",
          "text": [
            "/usr/local/lib/python3.10/dist-packages/sklearn/cluster/_kmeans.py:870: FutureWarning: The default value of `n_init` will change from 10 to 'auto' in 1.4. Set the value of `n_init` explicitly to suppress the warning\n",
            "  warnings.warn(\n"
          ]
        },
        {
          "data": {
            "image/png": "[encoded data removed]",
            "text/plain": [
              "<Figure size 1000x600 with 1 Axes>"
            ]
          },
          "metadata": {},
          "output_type": "display_data"
        }
      ],
      "source": [
        "import pandas as pd\n",
        "from sklearn.cluster import KMeans\n",
        "from sklearn.decomposition import PCA\n",
        "import matplotlib.pyplot as plt\n",
        "\n",
        "# Charger le fichier CSV contenant les vecteurs BoW\n",
        "data = pd.read_csv(\"/content/drive/MyDrive/TPE_Mon_Travail/BD1-Cluster4_Title.csv\")\n",
        "\n",
        "# Récupérer la colonne \"id\"\n",
        "ids = data[\"id\"]\n",
        "\n",
        "# Supprimer la colonne \"id\" du DataFrame\n",
        "data.drop(\"id\", axis=1, inplace=True)\n",
        "\n",
        "# Spécifier le nombre de clusters (vous pouvez ajuster ce nombre)\n",
        "nombre_de_clusters = 4\n",
        "\n",
        "# Créer une instance du modèle K-Means\n",
        "kmeans = KMeans(n_clusters=nombre_de_clusters, random_state=0)\n",
        "\n",
        "# Adapter le modèle aux données\n",
        "kmeans.fit(data)\n",
        "\n",
        "# Ajouter les étiquettes de cluster au DataFrame original\n",
        "data[\"cluster\"] = kmeans.labels_\n",
        "\n",
        "# Réduire les dimensions des données à 2 composantes avec PCA\n",
        "pca = PCA(n_components=2)\n",
        "data_pca = pca.fit_transform(data.drop(\"cluster\", axis=1))\n",
        "\n",
        "# Ajouter les étiquettes de cluster à la version en 2D des données\n",
        "data_pca = pd.DataFrame(data_pca, columns=[\"Dimension_1\", \"Dimension_2\"])\n",
        "data_pca[\"cluster\"] = data[\"cluster\"]\n",
        "\n",
        "# Créer un nuage de points avec des couleurs pour chaque cluster\n",
        "plt.figure(figsize=(10, 6))\n",
        "colors = ['b', 'g', 'r', 'c', 'm', 'y', 'k']\n",
        "for i in range(nombre_de_clusters):\n",
        "    cluster_data = data_pca[data_pca['cluster'] == i]\n",
        "    plt.scatter(cluster_data['Dimension_1'], cluster_data['Dimension_2'], c=colors[i], label=f'Cluster {i}')\n",
        "\n",
        "plt.xlabel(\"Dimension_1\")\n",
        "plt.ylabel(\"Dimension_2\")\n",
        "plt.title(\"Représentation graphique des clusters (K=4)\")\n",
        "plt.legend()\n",
        "plt.show()\n"
      ]
    },
    {
      "cell_type": "code",
      "execution_count": null,
      "metadata": {
        "colab": {
          "base_uri": "https://localhost:8080/",
          "height": 527
        },
        "id": "RsqWOmmxly8e",
        "outputId": "96d59499-8619-4baa-ca96-02d5c6cc96c2"
      },
      "outputs": [
        {
          "name": "stderr",
          "output_type": "stream",
          "text": [
            "/usr/local/lib/python3.10/dist-packages/sklearn/cluster/_kmeans.py:870: FutureWarning: The default value of `n_init` will change from 10 to 'auto' in 1.4. Set the value of `n_init` explicitly to suppress the warning\n",
            "  warnings.warn(\n"
          ]
        },
        {
          "data": {
            "image/png": "[encoded data removed]",
            "text/plain": [
              "<Figure size 640x480 with 1 Axes>"
            ]
          },
          "metadata": {},
          "output_type": "display_data"
        }
      ],
      "source": [
        "import pandas as pd\n",
        "from sklearn.cluster import KMeans\n",
        "import numpy as np\n",
        "import matplotlib.pyplot as plt\n",
        "\n",
        "# Charger le fichier CSV contenant les vecteurs BoW\n",
        "data = pd.read_csv(\"/content/drive/MyDrive/TPE_Mon_Travail/BD1-BOW_Title.csv\")\n",
        "\n",
        "# Récupérer la colonne \"id\"\n",
        "ids = data[\"id\"]\n",
        "\n",
        "# Supprimer la colonne \"id\" du DataFrame\n",
        "data.drop(\"id\", axis=1, inplace=True)\n",
        "\n",
        "# Spécifier le nombre de clusters (vous pouvez ajuster ce nombre)\n",
        "nombre_de_clusters = 4\n",
        "\n",
        "# Créer une instance du modèle K-Means\n",
        "kmeans = KMeans(n_clusters=nombre_de_clusters, random_state=0)\n",
        "\n",
        "# Adapter le modèle aux données\n",
        "kmeans.fit(data)\n",
        "\n",
        "# Ajouter les étiquettes de cluster au DataFrame original\n",
        "data[\"cluster\"] = kmeans.labels_\n",
        "\n",
        "# Créer un histogramme des clusters\n",
        "plt.hist(data[\"cluster\"], bins=range(0, nombre_de_clusters + 1), align='left', rwidth=0.8)\n",
        "plt.xlabel('Cluster')\n",
        "plt.ylabel('Nombre de points')\n",
        "plt.title('Histogramme des clusters (K=4)')\n",
        "plt.xticks(range(0, nombre_de_clusters))\n",
        "plt.show()\n"
      ]
    },
    {
      "cell_type": "markdown",
      "metadata": {
        "id": "q4f1V0IjsGOr"
      },
      "source": [
        "**Cluster** **Pour K = 5**"
      ]
    },
    {
      "cell_type": "code",
      "execution_count": null,
      "metadata": {
        "colab": {
          "base_uri": "https://localhost:8080/"
        },
        "id": "qjA-vVfjsHiu",
        "outputId": "2a217da1-9702-4713-ba77-ba7fab9a18b4"
      },
      "outputs": [
        {
          "name": "stdout",
          "output_type": "stream",
          "text": [
            "                   id  agent  arrière  autogir  avion  avoir  aéronef  \\\n",
            "0          F-HPTI.pdf      0        0        0      0      0        0   \n",
            "1           21AJD.pdf      0        0        0      1      0        0   \n",
            "2          F-GTPV.pdf      0        0        0      1      0        0   \n",
            "3          F-HMYY.pdf      0        0        0      0      0        0   \n",
            "4          F-GYFR.pdf      0        0        0      0      0        0   \n",
            "..                ...    ...      ...      ...    ...    ...      ...   \n",
            "195  BEA2020-0165.pdf      0        0        0      1      0        0   \n",
            "196  BEA2020-0418.pdf      0        0        0      0      0        0   \n",
            "197  BEA2019-0289.pdf      0        0        0      1      0        0   \n",
            "198  BEA2020-0373.pdf      0        0        0      2      0        0   \n",
            "199  BEA2020-0094.pdf      0        0        0      1      0        0   \n",
            "\n",
            "     balisage  ballon  blesser  ...  remorqueur  sol  structure  terme  \\\n",
            "0           0       0        0  ...           0    0          0      0   \n",
            "1           0       0        0  ...           0    0          0      0   \n",
            "2           0       0        0  ...           0    0          0      0   \n",
            "3           0       0        0  ...           0    0          0      0   \n",
            "4           0       0        1  ...           0    0          0      0   \n",
            "..        ...     ...      ...  ...         ...  ...        ...    ...   \n",
            "195         0       0        1  ...           0    0          0      0   \n",
            "196         0       1        0  ...           0    0          0      0   \n",
            "197         0       0        1  ...           0    0          0      0   \n",
            "198         0       0        0  ...           0    0          0      0   \n",
            "199         0       0        0  ...           0    0          0      0   \n",
            "\n",
            "     véhicule  électrique  élever  élève  élèvepilote  cluster  \n",
            "0           0           0       0      0            0        1  \n",
            "1           0           0       0      0            0        2  \n",
            "2           0           0       0      0            0        0  \n",
            "3           0           0       0      0            0        0  \n",
            "4           0           0       0      0            0        4  \n",
            "..        ...         ...     ...    ...          ...      ...  \n",
            "195         0           0       0      0            0        3  \n",
            "196         0           0       0      0            0        1  \n",
            "197         0           0       0      0            1        3  \n",
            "198         0           0       0      0            0        2  \n",
            "199         0           0       0      0            0        2  \n",
            "\n",
            "[200 rows x 58 columns]\n"
          ]
        },
        {
          "name": "stderr",
          "output_type": "stream",
          "text": [
            "/usr/local/lib/python3.10/dist-packages/sklearn/cluster/_kmeans.py:870: FutureWarning: The default value of `n_init` will change from 10 to 'auto' in 1.4. Set the value of `n_init` explicitly to suppress the warning\n",
            "  warnings.warn(\n"
          ]
        }
      ],
      "source": [
        "import pandas as pd\n",
        "from sklearn.cluster import KMeans\n",
        "import numpy as np\n",
        "\n",
        "# Charger le fichier CSV contenant les vecteurs BoW\n",
        "data = pd.read_csv(r\"/content/drive/MyDrive/TPE_Mon_Travail/BD1-BOW_Title.csv\")\n",
        "\n",
        "# Récupérer la colonne \"id\"\n",
        "ids = data[\"id\"]\n",
        "\n",
        "# Supprimer la colonne \"id\" du DataFrame\n",
        "data.drop(\"id\", axis=1, inplace=True)\n",
        "\n",
        "# Spécifier le nombre de clusters (vous pouvez ajuster ce nombre)\n",
        "nombre_de_clusters = 5\n",
        "\n",
        "# Créer une instance du modèle K-Means\n",
        "kmeans = KMeans(n_clusters=nombre_de_clusters, random_state=0)\n",
        "\n",
        "# Adapter le modèle aux données\n",
        "kmeans.fit(data)\n",
        "\n",
        "# Ajouter les étiquettes de cluster au DataFrame original\n",
        "data[\"cluster\"] = kmeans.labels_\n",
        "\n",
        "# Réinsérer la colonne \"id\" en première colonne\n",
        "data.insert(0, \"id\", ids)\n",
        "\n",
        "# Enregistrer le DataFrame avec les étiquettes de cluster dans un fichier CSV\n",
        "data.to_csv(r\"/content/drive/MyDrive/TPE_Mon_Travail/BD1-Cluster5_Title.csv\", index=False)\n",
        "\n",
        "# Afficher les résultats\n",
        "print(data)\n"
      ]
    },
    {
      "cell_type": "markdown",
      "metadata": {
        "id": "8I-kG0gWtSNu"
      },
      "source": []
    },
    {
      "cell_type": "code",
      "execution_count": null,
      "metadata": {
        "colab": {
          "base_uri": "https://localhost:8080/",
          "height": 586
        },
        "id": "n6PB_YCy6eNB",
        "outputId": "8e1779b1-60e2-46fa-f07f-0d6db33415e4"
      },
      "outputs": [
        {
          "name": "stderr",
          "output_type": "stream",
          "text": [
            "/usr/local/lib/python3.10/dist-packages/sklearn/cluster/_kmeans.py:870: FutureWarning: The default value of `n_init` will change from 10 to 'auto' in 1.4. Set the value of `n_init` explicitly to suppress the warning\n",
            "  warnings.warn(\n"
          ]
        },
        {
          "data": {
            "image/png": "[encoded data removed]",
            "text/plain": [
              "<Figure size 1000x600 with 1 Axes>"
            ]
          },
          "metadata": {},
          "output_type": "display_data"
        }
      ],
      "source": [
        "import pandas as pd\n",
        "from sklearn.cluster import KMeans\n",
        "from sklearn.decomposition import PCA\n",
        "import matplotlib.pyplot as plt\n",
        "\n",
        "# Charger le fichier CSV contenant les vecteurs BoW\n",
        "data = pd.read_csv(\"/content/drive/MyDrive/TPE_Mon_Travail/BD1-Cluster5_Title.csv\")\n",
        "\n",
        "# Récupérer la colonne \"id\"\n",
        "ids = data[\"id\"]\n",
        "\n",
        "# Supprimer la colonne \"id\" du DataFrame\n",
        "data.drop(\"id\", axis=1, inplace=True)\n",
        "\n",
        "# Spécifier le nombre de clusters (K=5)\n",
        "nombre_de_clusters = 5\n",
        "\n",
        "# Créer une instance du modèle K-Means\n",
        "kmeans = KMeans(n_clusters=nombre_de_clusters, random_state=0)\n",
        "\n",
        "# Adapter le modèle aux données\n",
        "kmeans.fit(data)\n",
        "\n",
        "# Ajouter les étiquettes de cluster au DataFrame original\n",
        "data[\"cluster\"] = kmeans.labels_\n",
        "\n",
        "# Réduire les dimensions des données à 2 composantes avec PCA\n",
        "pca = PCA(n_components=2)\n",
        "data_pca = pca.fit_transform(data.drop(\"cluster\", axis=1))\n",
        "\n",
        "# Ajouter les étiquettes de cluster à la version en 2D des données\n",
        "data_pca = pd.DataFrame(data_pca, columns=[\"Dimension_1\", \"Dimension_2\"])\n",
        "data_pca[\"cluster\"] = data[\"cluster\"]\n",
        "\n",
        "# Créer un nuage de points avec des couleurs pour chaque cluster\n",
        "plt.figure(figsize=(10, 6))\n",
        "colors = ['b', 'g', 'r', 'c', 'm']\n",
        "for i in range(nombre_de_clusters):\n",
        "    cluster_data = data_pca[data_pca['cluster'] == i]\n",
        "    plt.scatter(cluster_data['Dimension_1'], cluster_data['Dimension_2'], c=colors[i], label=f'Cluster {i}')\n",
        "\n",
        "plt.xlabel(\"Dimension_1\")\n",
        "plt.ylabel(\"Dimension_2\")\n",
        "plt.title(f\"Représentation graphique des clusters (K={nombre_de_clusters})\")\n",
        "plt.legend()\n",
        "plt.show()\n"
      ]
    },
    {
      "cell_type": "code",
      "execution_count": null,
      "metadata": {
        "colab": {
          "base_uri": "https://localhost:8080/",
          "height": 540
        },
        "id": "d97wAdCgtS4m",
        "outputId": "d296caad-55c5-4683-ed2c-74b0eb49dca8"
      },
      "outputs": [
        {
          "data": {
            "image/png": "[encoded data removed]",
            "text/plain": [
              "<Figure size 1000x600 with 1 Axes>"
            ]
          },
          "metadata": {},
          "output_type": "display_data"
        }
      ],
      "source": [
        "import pandas as pd\n",
        "import matplotlib.pyplot as plt\n",
        "\n",
        "# Charger le fichier CSV contenant la colonne \"cluster\"\n",
        "data = pd.read_csv(\"/content/drive/MyDrive/TPE_Mon_Travail/BD1-Cluster5_Title.csv\")\n",
        "\n",
        "# Compter le nombre d'occurrences de chaque cluster\n",
        "cluster_counts = data['cluster'].value_counts().sort_index()\n",
        "\n",
        "# Générer un graphique à barres empilées\n",
        "plt.figure(figsize=(10, 6))\n",
        "plt.bar(cluster_counts.index, cluster_counts.values, color='b')\n",
        "plt.title('Histogramme des clusters (K=5)')\n",
        "plt.xlabel('Cluster')\n",
        "plt.ylabel('Nombre de documents')\n",
        "plt.show()\n"
      ]
    },
    {
      "cell_type": "markdown",
      "metadata": {
        "id": "NF17WoH_MsrZ"
      },
      "source": [
        "**Regroupement des mots de chaque cluster pour l'analyse**"
      ]
    },
    {
      "cell_type": "markdown",
      "metadata": {
        "id": "0yrNF5FXNJ5J"
      },
      "source": [
        "**Pour K=3**"
      ]
    },
    {
      "cell_type": "code",
      "execution_count": null,
      "metadata": {
        "colab": {
          "base_uri": "https://localhost:8080/"
        },
        "id": "V_RYVYlyM9fz",
        "outputId": "31d73aff-3fb0-49da-ebbe-295b06d06cd9"
      },
      "outputs": [
        {
          "name": "stdout",
          "output_type": "stream",
          "text": [
            "  Cluster                                           Keywords\n",
            "0       0  avion, avoir, aéronef, balisage, ballon, bless...\n",
            "1       1  autogir, avion, blesser, blessé, bord, command...\n",
            "2       2  agent, arrière, avion, aéronef, blesser, bless...\n"
          ]
        },
        {
          "name": "stderr",
          "output_type": "stream",
          "text": [
            "<ipython-input-38-6fb64c443c02>:36: FutureWarning: The frame.append method is deprecated and will be removed from pandas in a future version. Use pandas.concat instead.\n",
            "  clusters_keywords = clusters_keywords.append({\"Cluster\": cluster_id, \"Keywords\": keywords_string}, ignore_index=True)\n",
            "<ipython-input-38-6fb64c443c02>:36: FutureWarning: The frame.append method is deprecated and will be removed from pandas in a future version. Use pandas.concat instead.\n",
            "  clusters_keywords = clusters_keywords.append({\"Cluster\": cluster_id, \"Keywords\": keywords_string}, ignore_index=True)\n",
            "<ipython-input-38-6fb64c443c02>:36: FutureWarning: The frame.append method is deprecated and will be removed from pandas in a future version. Use pandas.concat instead.\n",
            "  clusters_keywords = clusters_keywords.append({\"Cluster\": cluster_id, \"Keywords\": keywords_string}, ignore_index=True)\n"
          ]
        }
      ],
      "source": [
        "import pandas as pd\n",
        "from collections import Counter\n",
        "\n",
        "# Charger le fichier CSV contenant les clusters\n",
        "input_path = r\"/content/drive/MyDrive/TPE_Mon_Travail/BD1-Cluster3_Title.csv\"\n",
        "data = pd.read_csv(input_path)\n",
        "\n",
        "# Créez un DataFrame pour stocker les mots clés par cluster\n",
        "clusters_keywords = pd.DataFrame(columns=[\"Cluster\", \"Keywords\"])\n",
        "\n",
        "# Pour chaque cluster unique dans la colonne \"cluster\"\n",
        "unique_clusters = data[\"cluster\"].unique()\n",
        "for cluster_id in unique_clusters:\n",
        "    # Filtrez les données pour obtenir uniquement les lignes de ce cluster\n",
        "    cluster_data = data[data[\"cluster\"] == cluster_id]\n",
        "\n",
        "    # Créez une liste vide pour stocker tous les mots\n",
        "    all_words = []\n",
        "\n",
        "    # Parcourez chaque ligne du cluster\n",
        "    for index, row in cluster_data.iterrows():\n",
        "        # Sélectionnez les noms des colonnes où la valeur est égale à 1, à l'exception de \"cluster\"\n",
        "        words = [col for col in row.index if row[col] == 1 and col != \"cluster\"]\n",
        "        all_words.extend(words)\n",
        "\n",
        "    # Comptez la fréquence de chaque mot\n",
        "    word_counts = Counter(all_words)\n",
        "\n",
        "    # Triez les mots-clés par ordre alphabétique\n",
        "    keywords = sorted(word_counts.keys())\n",
        "\n",
        "    # Créez une chaîne de mots-clés\n",
        "    keywords_string = \", \".join(keywords)\n",
        "\n",
        "    # Ajoutez la paire (Cluster, Mots-clés) au DataFrame clusters_keywords\n",
        "    clusters_keywords = clusters_keywords.append({\"Cluster\": cluster_id, \"Keywords\": keywords_string}, ignore_index=True)\n",
        "\n",
        "# Enregistrez le DataFrame contenant les mots clés par cluster dans un fichier CSV\n",
        "output_path = r\"/content/drive/MyDrive/TPE_Mon_Travail/BD1-Cluster-Liste_Title.csv\"\n",
        "clusters_keywords.to_csv(output_path, index=False)\n",
        "\n",
        "# Affichez le DataFrame contenant les mots-clés de chaque cluster\n",
        "print(clusters_keywords)\n"
      ]
    },
    {
      "cell_type": "markdown",
      "metadata": {
        "id": "q96UOl9Y5UsH"
      },
      "source": [
        "**Pour K=4**"
      ]
    },
    {
      "cell_type": "code",
      "execution_count": null,
      "metadata": {
        "colab": {
          "base_uri": "https://localhost:8080/"
        },
        "id": "0iLvJfaR5ZmX",
        "outputId": "3b8b690a-8c9d-4928-896b-72f2d0375b05"
      },
      "outputs": [
        {
          "name": "stdout",
          "output_type": "stream",
          "text": [
            "  Cluster                                           Keywords\n",
            "0       2  avion, avoir, aéronef, balisage, ballon, bless...\n",
            "1       1  autogir, avion, blesser, blessé, bord, command...\n",
            "2       3  agent, avion, blesser, cabin, chef, descal, de...\n",
            "3       0  arrière, avion, aéronef, blesser, blessé, cent...\n"
          ]
        },
        {
          "name": "stderr",
          "output_type": "stream",
          "text": [
            "<ipython-input-39-b44c65cc8c1b>:39: FutureWarning: The frame.append method is deprecated and will be removed from pandas in a future version. Use pandas.concat instead.\n",
            "  clusters_keywords = clusters_keywords.append({\"Cluster\": cluster_id, \"Keywords\": keywords_string}, ignore_index=True)\n",
            "<ipython-input-39-b44c65cc8c1b>:39: FutureWarning: The frame.append method is deprecated and will be removed from pandas in a future version. Use pandas.concat instead.\n",
            "  clusters_keywords = clusters_keywords.append({\"Cluster\": cluster_id, \"Keywords\": keywords_string}, ignore_index=True)\n",
            "<ipython-input-39-b44c65cc8c1b>:39: FutureWarning: The frame.append method is deprecated and will be removed from pandas in a future version. Use pandas.concat instead.\n",
            "  clusters_keywords = clusters_keywords.append({\"Cluster\": cluster_id, \"Keywords\": keywords_string}, ignore_index=True)\n",
            "<ipython-input-39-b44c65cc8c1b>:39: FutureWarning: The frame.append method is deprecated and will be removed from pandas in a future version. Use pandas.concat instead.\n",
            "  clusters_keywords = clusters_keywords.append({\"Cluster\": cluster_id, \"Keywords\": keywords_string}, ignore_index=True)\n"
          ]
        }
      ],
      "source": [
        "import pandas as pd\n",
        "from collections import Counter\n",
        "\n",
        "# Charger le fichier CSV contenant les clusters\n",
        "input_path = r\"/content/drive/MyDrive/TPE_Mon_Travail/BD1-Cluster4_Title.csv\"\n",
        "data = pd.read_csv(input_path)\n",
        "\n",
        "# Créez un DataFrame pour stocker les mots clés par cluster\n",
        "clusters_keywords = pd.DataFrame(columns=[\"Cluster\", \"Keywords\"])\n",
        "\n",
        "# Pour chaque cluster unique dans la colonne \"cluster\"\n",
        "unique_clusters = data[\"cluster\"].unique()\n",
        "for cluster_id in unique_clusters:\n",
        "    # Filtrez les données pour obtenir uniquement les lignes de ce cluster\n",
        "    cluster_data = data[data[\"cluster\"] == cluster_id]\n",
        "\n",
        "    # Créez une liste vide pour stocker tous les mots\n",
        "    all_words = []\n",
        "\n",
        "    # Parcourez chaque ligne du cluster\n",
        "    for index, row in cluster_data.iterrows():\n",
        "        # Sélectionnez les noms des colonnes où la valeur est égale à 1, à l'exception de \"cluster\"\n",
        "        words = [col for col in row.index if row[col] == 1 and col != \"cluster\"]\n",
        "        all_words.extend(words)\n",
        "\n",
        "    # Supprimez le mot \"cluster\" de la liste des mots-clés\n",
        "    all_words = [word for word in all_words if word != \"cluster\"]\n",
        "\n",
        "    # Comptez la fréquence de chaque mot\n",
        "    word_counts = Counter(all_words)\n",
        "\n",
        "    # Triez les mots-clés par ordre alphabétique\n",
        "    keywords = sorted(word_counts.keys())\n",
        "\n",
        "    # Créez une chaîne de mots-clés\n",
        "    keywords_string = \", \".join(keywords)\n",
        "\n",
        "    # Ajoutez la paire (Cluster, Mots-clés) au DataFrame clusters_keywords\n",
        "    clusters_keywords = clusters_keywords.append({\"Cluster\": cluster_id, \"Keywords\": keywords_string}, ignore_index=True)\n",
        "\n",
        "# Enregistrez le DataFrame contenant les mots clés par cluster dans un fichier CSV\n",
        "output_path = r\"/content/drive/MyDrive/TPE_Mon_Travail/BD1-Cluster4-Liste_Title.csv\"\n",
        "clusters_keywords.to_csv(output_path, index=False)\n",
        "\n",
        "# Affichez le DataFrame contenant les mots-clés de chaque cluster\n",
        "print(clusters_keywords)\n"
      ]
    },
    {
      "cell_type": "markdown",
      "metadata": {
        "id": "ZvjqDMVL6Bgo"
      },
      "source": [
        "**Pour K=5**"
      ]
    },
    {
      "cell_type": "code",
      "execution_count": null,
      "metadata": {
        "colab": {
          "base_uri": "https://localhost:8080/"
        },
        "id": "cMatOBo5-b5y",
        "outputId": "cc5d56e5-ebbf-4a6c-cae2-6323b27baafd"
      },
      "outputs": [
        {
          "name": "stderr",
          "output_type": "stream",
          "text": [
            "<ipython-input-19-75cffbc3c058>:39: FutureWarning: The frame.append method is deprecated and will be removed from pandas in a future version. Use pandas.concat instead.\n",
            "  clusters_keywords = clusters_keywords.append({\"Cluster\": cluster_id, \"Keywords\": keywords_string}, ignore_index=True)\n",
            "<ipython-input-19-75cffbc3c058>:39: FutureWarning: The frame.append method is deprecated and will be removed from pandas in a future version. Use pandas.concat instead.\n",
            "  clusters_keywords = clusters_keywords.append({\"Cluster\": cluster_id, \"Keywords\": keywords_string}, ignore_index=True)\n",
            "<ipython-input-19-75cffbc3c058>:39: FutureWarning: The frame.append method is deprecated and will be removed from pandas in a future version. Use pandas.concat instead.\n",
            "  clusters_keywords = clusters_keywords.append({\"Cluster\": cluster_id, \"Keywords\": keywords_string}, ignore_index=True)\n",
            "<ipython-input-19-75cffbc3c058>:39: FutureWarning: The frame.append method is deprecated and will be removed from pandas in a future version. Use pandas.concat instead.\n",
            "  clusters_keywords = clusters_keywords.append({\"Cluster\": cluster_id, \"Keywords\": keywords_string}, ignore_index=True)\n",
            "<ipython-input-19-75cffbc3c058>:39: FutureWarning: The frame.append method is deprecated and will be removed from pandas in a future version. Use pandas.concat instead.\n",
            "  clusters_keywords = clusters_keywords.append({\"Cluster\": cluster_id, \"Keywords\": keywords_string}, ignore_index=True)\n"
          ]
        },
        {
          "name": "stdout",
          "output_type": "stream",
          "text": [
            "  Cluster                                           Keywords\n",
            "0       1  avion, avoir, aéronef, balisage, ballon, bless...\n",
            "1       2  autogir, avion, bord, commande, dispositif, dé...\n",
            "2       3  avion, blesser, blessé, deux, décéder, désigna...\n",
            "3       4  agent, avion, blesser, blessé, cabin, chef, da...\n",
            "4       0  arrière, avion, aéronef, blesser, central, dis...\n"
          ]
        }
      ],
      "source": [
        "import pandas as pd\n",
        "from collections import Counter\n",
        "\n",
        "# Charger le fichier CSV contenant les clusters\n",
        "input_path = r\"/content/drive/MyDrive/TPE_Mon_Travail/BD1-Cluster5_Title.csv\"\n",
        "data = pd.read_csv(input_path)\n",
        "\n",
        "# Créez un DataFrame pour stocker les mots clés par cluster\n",
        "clusters_keywords = pd.DataFrame(columns=[\"Cluster\", \"Keywords\"])\n",
        "\n",
        "# Pour chaque cluster unique dans la colonne \"cluster\"\n",
        "unique_clusters = data[\"cluster\"].unique()\n",
        "for cluster_id in unique_clusters:\n",
        "    # Filtrez les données pour obtenir uniquement les lignes de ce cluster\n",
        "    cluster_data = data[data[\"cluster\"] == cluster_id]\n",
        "\n",
        "    # Créez une liste vide pour stocker tous les mots\n",
        "    all_words = []\n",
        "\n",
        "    # Parcourez chaque ligne du cluster\n",
        "    for index, row in cluster_data.iterrows():\n",
        "        # Sélectionnez les noms des colonnes où la valeur est égale à 1, à l'exception de \"cluster\"\n",
        "        words = [col for col in row.index if row[col] == 1 and col != \"cluster\"]\n",
        "        all_words.extend(words)\n",
        "\n",
        "    # Supprimez le mot \"cluster\" de la liste des mots-clés\n",
        "    all_words = [word for word in all_words if word != \"cluster\"]\n",
        "\n",
        "    # Comptez la fréquence de chaque mot\n",
        "    word_counts = Counter(all_words)\n",
        "\n",
        "    # Triez les mots-clés par ordre alphabétique\n",
        "    keywords = sorted(word_counts.keys())\n",
        "\n",
        "    # Créez une chaîne de mots-clés\n",
        "    keywords_string = \", \".join(keywords)\n",
        "\n",
        "    # Ajoutez la paire (Cluster, Mots-clés) au DataFrame clusters_keywords\n",
        "    clusters_keywords = clusters_keywords.append({\"Cluster\": cluster_id, \"Keywords\": keywords_string}, ignore_index=True)\n",
        "\n",
        "# Enregistrez le DataFrame contenant les mots clés par cluster dans un fichier CSV\n",
        "output_path = r\"/content/drive/MyDrive/TPE_Mon_Travail/BD1-Cluster5-Liste_Title.csv\"\n",
        "clusters_keywords.to_csv(output_path, index=False)\n",
        "\n",
        "# Affichez le DataFrame contenant les mots-clés de chaque cluster\n",
        "print(clusters_keywords)\n"
      ]
    },
    {
      "cell_type": "markdown",
      "metadata": {
        "id": "e4p-RX-ZGPeL"
      },
      "source": [
        "**Extraction de tout le contenu**"
      ]
    },
    {
      "cell_type": "code",
      "execution_count": null,
      "metadata": {
        "colab": {
          "base_uri": "https://localhost:8080/"
        },
        "id": "Ax9eZePwLM6S",
        "outputId": "8df73e6b-c760-4b90-ec0c-0d15d5003300"
      },
      "outputs": [
        {
          "name": "stdout",
          "output_type": "stream",
          "text": [
            "Collecting pdfplumber\n",
            "  Downloading pdfplumber-0.10.3-py3-none-any.whl (48 kB)\n",
            "\u001b[2K     \u001b[90m━━━━━━━━━━━━━━━━━━━━━━━━━━━━━━━━━━━━━━━━\u001b[0m \u001b[32m49.0/49.0 kB\u001b[0m \u001b[31m686.0 kB/s\u001b[0m eta \u001b[36m0:00:00\u001b[0m\n",
            "\u001b[?25hCollecting pdfminer.six==20221105 (from pdfplumber)\n",
            "  Downloading pdfminer.six-20221105-py3-none-any.whl (5.6 MB)\n",
            "\u001b[2K     \u001b[90m━━━━━━━━━━━━━━━━━━━━━━━━━━━━━━━━━━━━━━━━\u001b[0m \u001b[32m5.6/5.6 MB\u001b[0m \u001b[31m17.8 MB/s\u001b[0m eta \u001b[36m0:00:00\u001b[0m\n",
            "\u001b[?25hRequirement already satisfied: Pillow>=9.1 in /usr/local/lib/python3.10/dist-packages (from pdfplumber) (9.4.0)\n",
            "Collecting pypdfium2>=4.18.0 (from pdfplumber)\n",
            "  Downloading pypdfium2-4.25.0-py3-none-manylinux_2_17_x86_64.whl (3.0 MB)\n",
            "\u001b[2K     \u001b[90m━━━━━━━━━━━━━━━━━━━━━━━━━━━━━━━━━━━━━━━━\u001b[0m \u001b[32m3.0/3.0 MB\u001b[0m \u001b[31m45.3 MB/s\u001b[0m eta \u001b[36m0:00:00\u001b[0m\n",
            "\u001b[?25hRequirement already satisfied: charset-normalizer>=2.0.0 in /usr/local/lib/python3.10/dist-packages (from pdfminer.six==20221105->pdfplumber) (3.3.2)\n",
            "Requirement already satisfied: cryptography>=36.0.0 in /usr/local/lib/python3.10/dist-packages (from pdfminer.six==20221105->pdfplumber) (41.0.7)\n",
            "Requirement already satisfied: cffi>=1.12 in /usr/local/lib/python3.10/dist-packages (from cryptography>=36.0.0->pdfminer.six==20221105->pdfplumber) (1.16.0)\n",
            "Requirement already satisfied: pycparser in /usr/local/lib/python3.10/dist-packages (from cffi>=1.12->cryptography>=36.0.0->pdfminer.six==20221105->pdfplumber) (2.21)\n",
            "Installing collected packages: pypdfium2, pdfminer.six, pdfplumber\n",
            "Successfully installed pdfminer.six-20221105 pdfplumber-0.10.3 pypdfium2-4.25.0\n"
          ]
        }
      ],
      "source": [
        "!pip install pdfplumber"
      ]
    },
    {
      "cell_type": "code",
      "execution_count": null,
      "metadata": {
        "colab": {
          "base_uri": "https://localhost:8080/"
        },
        "id": "RspwgEwVGZfC",
        "outputId": "9cd2263c-d80e-4d2f-fd02-f004286e830a"
      },
      "outputs": [
        {
          "name": "stdout",
          "output_type": "stream",
          "text": [
            "Résultats enregistrés dans le fichier: /content/drive/MyDrive/TPE_Mon_Travail/dataset_Contenu.csv\n"
          ]
        }
      ],
      "source": [
        "import os\n",
        "import pdfplumber\n",
        "import spacy\n",
        "import pandas as pd\n",
        "\n",
        "# Charger le modèle de langue SpaCy\n",
        "nlp = spacy.load(\"en_core_web_sm\")\n",
        "\n",
        "# Expressions à supprimer\n",
        "expressions_a_supprimer = [\n",
        "    \"RAPPORT\",\"ACCIDENT\",\"www\",\"bea\",\"aero\",\"D\",\"ENQUETE\",\"SECURITE\",\"BEA_Aero\"\n",
        "]\n",
        "\n",
        "# Fonction pour filtrer les éléments non importants\n",
        "def is_important(token):\n",
        "    return not (token.is_stop or token.is_punct or token.pos_ in ['DET', 'PRON', 'PREP'])\n",
        "\n",
        "# Fonction pour extraire le contenu et effectuer le traitement linguistique\n",
        "def extract_text(pdf_path):\n",
        "    with pdfplumber.open(pdf_path) as pdf:\n",
        "        extracted_text = \"\"\n",
        "\n",
        "        for page_num in range(len(pdf.pages)):\n",
        "            page_text = pdf.pages[page_num].extract_text()\n",
        "            extracted_text += page_text\n",
        "\n",
        "        # Supprimer les expressions à supprimer\n",
        "        for expression in expressions_a_supprimer:\n",
        "            extracted_text = extracted_text.replace(expression, \"\")\n",
        "\n",
        "        doc = nlp(extracted_text)\n",
        "        important_tokens = [token.text for token in doc if is_important(token)]\n",
        "        named_entities = [(ent.text, ent.label_) for ent in doc.ents]\n",
        "        parsed_trees = [sent for sent in doc.sents]\n",
        "\n",
        "        return extracted_text, important_tokens, named_entities, parsed_trees\n",
        "\n",
        "# Liste pour stocker les données avant de les enregistrer dans un DataFrame\n",
        "data_list = []\n",
        "\n",
        "pdf_folder = \"/content/drive/MyDrive/TPE_Mon_Travail/Rapport_BEA\"\n",
        "pdf_files = [os.path.join(pdf_folder, f) for f in os.listdir(pdf_folder) if f.endswith(\".pdf\")]\n",
        "\n",
        "for pdf_file in pdf_files:\n",
        "    extracted_text, important_tokens, named_entities, parsed_trees = extract_text(pdf_file)\n",
        "\n",
        "    # Ajouter les données à la liste\n",
        "    data_list.append({\n",
        "        \"id\": pdf_file,\n",
        "        \"contenu\": extracted_text\n",
        "    })\n",
        "\n",
        "# Créer un DataFrame pandas à partir de la liste de données\n",
        "df = pd.DataFrame(data_list)\n",
        "\n",
        "# Chemin vers le fichier CSV de sortie\n",
        "output_file_path = \"/content/drive/MyDrive/TPE_Mon_Travail/dataset_Contenu.csv\"\n",
        "\n",
        "# Enregistrer le DataFrame dans un fichier CSV\n",
        "df.to_csv(output_file_path, index=False, encoding='utf-8')\n",
        "\n",
        "print(\"Résultats enregistrés dans le fichier:\", output_file_path)\n"
      ]
    },
    {
      "cell_type": "markdown",
      "metadata": {
        "id": "_OvBkpikQKu0"
      },
      "source": [
        "**Nettoyage de l'Extraction de tous les contenus**"
      ]
    },
    {
      "cell_type": "code",
      "execution_count": null,
      "metadata": {
        "colab": {
          "base_uri": "https://localhost:8080/"
        },
        "id": "A25DefJrBnwF",
        "outputId": "3bf11d8b-0059-448a-8258-268ec2ec840b"
      },
      "outputs": [
        {
          "name": "stdout",
          "output_type": "stream",
          "text": [
            "Drive already mounted at /content/drive; to attempt to forcibly remount, call drive.mount(\"/content/drive\", force_remount=True).\n",
            "                   id                                            contenu\n",
            "0          F-HPTI.pdf  Accident hélicoptère GUIMBAL CABRI immatriculé...\n",
            "1           21AJD.pdf  Accident survenu ULM multiaxes HUMBERT AVIATIO...\n",
            "2          F-GTPV.pdf  Accident survenu avion ROBIN R400 180 immatric...\n",
            "3          F-HMYY.pdf  Accident survenu avion ROBIN R400 500 immatric...\n",
            "4          F-GYFR.pdf  Accident survenu ballon ULTRAMAGIC M105 immatr...\n",
            "..                ...                                                ...\n",
            "195  BEA2020-0165.pdf  ENQUÊTE Accident planeur CENTRAIR 101A PEGASE ...\n",
            "196  BEA2020-0418.pdf  ENQUÊTE Accident ballon air chaud Schroeder Fi...\n",
            "197  BEA2019-0289.pdf  ENQUÊTE Accident hélicoptère ROBINSON R22 BETA...\n",
            "198  BEA2020-0373.pdf  ENQUÊTE Planeur dispositif Accident ULM planeu...\n",
            "199  BEA2020-0094.pdf  ENQUÊTE Accident avion Piper Séminole immatric...\n",
            "\n",
            "[200 rows x 2 columns]\n"
          ]
        }
      ],
      "source": [
        "import pandas as pd\n",
        "import re\n",
        "from google.colab import drive\n",
        "\n",
        "# Monter Google Drive pour accéder aux fichiers\n",
        "drive.mount('/content/drive')\n",
        "\n",
        "# Chemin vers le fichier CSV sur Google Drive\n",
        "csv_file_path = \"/content/drive/MyDrive/TPE_Mon_Travail/dataset_Contenu.csv\"\n",
        "\n",
        "# Lire le fichier CSV en utilisant pandas\n",
        "data = pd.read_csv(csv_file_path, encoding='utf-8')\n",
        "\n",
        "# Supprimer l'expression \"Conséquences et dommages\" de la colonne \"contenu\"\n",
        "data['contenu'] = data['contenu'].str.replace('Conséquences et dommages', '')\n",
        "\n",
        "# Liste des catégories d'éléments à supprimer\n",
        "categories_a_supprimer = {\n",
        "    \"Articles définis\": [\"le\", \"la\", \"les\", \"l'\"],\n",
        "    \"Prépositions et articles partitifs\": [\"de\", \"du\", \"des\", \"d'\", \"d\", \"au\", \"aux\", \"en\"],\n",
        "    \"Articles indéfinis\": [\"un\", \"une\"],\n",
        "    \"Prépositions\": [\"à\", \"dans\", \"sur\", \"pour\", \"par\", \"pas\", \"sans\", \"avec\", \"où\"],\n",
        "    \"Conjonction de coordination\": [\"et\", \"car\", \"ou\"],\n",
        "    \"Pronoms relatifs\": [\"que\", \"qui\", \"qu'\"],\n",
        "    \"Pronoms personnels et réflexifs\": [\"il\", \"nous\", \"ce\", \"ces\", \"se\", \"ceci\", \"donc\", \"dont\", \"alors\", \"lors\", \"autre\",\"en\"]\n",
        "}\n",
        "\n",
        "# Fonction pour nettoyer le texte en supprimant les articles et les mots courts\n",
        "def nettoyer_texte(texte, mots_a_supprimer):\n",
        "    # Utiliser une expression régulière pour séparer les mots\n",
        "    mots = re.findall(r'\\b\\w+\\b', str(texte))\n",
        "\n",
        "    # Filtrer les mots en supprimant les articles, les mots spécifiques\n",
        "    # et les mots courts (un ou deux caractères)\n",
        "    mots_filtrés = [mot for mot in mots if len(mot) > 2 and mot.lower() not in mots_a_supprimer]\n",
        "\n",
        "    # Rejoindre les mots filtrés pour former le texte nettoyé\n",
        "    texte_nettoyé = ' '.join(mots_filtrés)\n",
        "    return texte_nettoyé\n",
        "\n",
        "# Appliquer la fonction de nettoyage à la colonne de contenu\n",
        "for categorie, mots_a_supprimer in categories_a_supprimer.items():\n",
        "    data['contenu'] = data['contenu'].apply(lambda x: nettoyer_texte(x, mots_a_supprimer))\n",
        "\n",
        "# Supprimer le chemin \"/content/drive/MyDrive/TPE_Mon_Travail/Rapport_BEA\" de la colonne 'id'\n",
        "data['id'] = data['id'].str.split(\"/\").str[-1]\n",
        "\n",
        "# Enregistrer le résultat dans un nouveau fichier CSV sur Google Drive avec un encodage spécifique (par exemple, UTF-8)\n",
        "cleaned_csv_file_path = \"/content/drive/MyDrive/TPE_Mon_Travail/BD2_Contenu.csv\"\n",
        "data.to_csv(cleaned_csv_file_path, index=False, encoding='utf-8')\n",
        "\n",
        "# Afficher les premières lignes du DataFrame nettoyé\n",
        "print(data)\n"
      ]
    },
    {
      "cell_type": "markdown",
      "metadata": {
        "id": "0YaxCYJe9ub-"
      },
      "source": [
        "**Le Doc2Vec sur le contenu**"
      ]
    },
    {
      "cell_type": "code",
      "execution_count": null,
      "metadata": {
        "colab": {
          "base_uri": "https://localhost:8080/"
        },
        "id": "Qat0zxTp97wE",
        "outputId": "916f8db5-4b3e-4a2a-f798-37419ee612c9"
      },
      "outputs": [
        {
          "name": "stdout",
          "output_type": "stream",
          "text": [
            "Requirement already satisfied: gensim in /usr/local/lib/python3.10/dist-packages (4.3.2)\n",
            "Requirement already satisfied: numpy>=1.18.5 in /usr/local/lib/python3.10/dist-packages (from gensim) (1.23.5)\n",
            "Requirement already satisfied: scipy>=1.7.0 in /usr/local/lib/python3.10/dist-packages (from gensim) (1.11.4)\n",
            "Requirement already satisfied: smart-open>=1.8.1 in /usr/local/lib/python3.10/dist-packages (from gensim) (6.4.0)\n"
          ]
        }
      ],
      "source": [
        "!pip install gensim"
      ]
    },
    {
      "cell_type": "code",
      "execution_count": null,
      "metadata": {
        "colab": {
          "base_uri": "https://localhost:8080/"
        },
        "id": "t-BwSXw-UpTZ",
        "outputId": "180af743-a74a-4fed-aacd-a1eb20451267"
      },
      "outputs": [
        {
          "name": "stderr",
          "output_type": "stream",
          "text": [
            "[nltk_data] Downloading package punkt to /root/nltk_data...\n",
            "[nltk_data]   Unzipping tokenizers/punkt.zip.\n"
          ]
        },
        {
          "data": {
            "text/plain": [
              "True"
            ]
          },
          "execution_count": 45,
          "metadata": {},
          "output_type": "execute_result"
        }
      ],
      "source": [
        "import nltk\n",
        "nltk.download('punkt')"
      ]
    },
    {
      "cell_type": "code",
      "execution_count": null,
      "metadata": {
        "colab": {
          "base_uri": "https://localhost:8080/"
        },
        "id": "_F24abGC-qXF",
        "outputId": "4d198d50-bc8a-4112-8d07-8dbe787e2713"
      },
      "outputs": [
        {
          "name": "stdout",
          "output_type": "stream",
          "text": [
            "                   id       d_0       d_1       d_2       d_3       d_4  \\\n",
            "0          F-HPTI.pdf  0.167122  0.425665  0.396652 -0.854497 -0.151318   \n",
            "1           21AJD.pdf -1.318398 -0.368693 -2.187209 -0.265002 -0.221460   \n",
            "2          F-GTPV.pdf  1.148463 -0.624393 -0.773549  0.509976  1.997171   \n",
            "3          F-HMYY.pdf -0.169123 -0.497370 -1.251933  0.295527 -0.023879   \n",
            "4          F-GYFR.pdf -0.221414 -1.003138 -0.527638 -1.214949 -0.998163   \n",
            "..                ...       ...       ...       ...       ...       ...   \n",
            "195  BEA2020-0165.pdf -3.783556 -2.833778 -1.002487 -1.265158 -0.832366   \n",
            "196  BEA2020-0418.pdf -1.875616 -1.048386 -1.571274 -1.695982 -2.069249   \n",
            "197  BEA2019-0289.pdf -0.091385  0.614982 -0.546278 -0.894724  0.035714   \n",
            "198  BEA2020-0373.pdf -1.382570 -0.864869 -0.803341  0.331644 -1.067545   \n",
            "199  BEA2020-0094.pdf -0.120149 -0.658675 -0.077455  0.272081  0.176849   \n",
            "\n",
            "          d_5       d_6       d_7       d_8  ...      d_90      d_91  \\\n",
            "0    1.069840 -0.658149  0.581857 -1.380702  ... -0.532059  1.899226   \n",
            "1   -0.269777 -0.031805 -0.927879  0.270579  ... -2.478697  2.363642   \n",
            "2   -1.540675  0.768435  1.289634  2.329049  ... -0.947407  1.699171   \n",
            "3    0.161248  0.250402  0.324523  2.483367  ... -1.342541  1.623744   \n",
            "4   -0.536386 -0.189751  0.159666  1.082207  ... -1.344633  0.897765   \n",
            "..        ...       ...       ...       ...  ...       ...       ...   \n",
            "195 -1.289697  1.944195  0.893414 -0.849189  ...  0.481557  0.202233   \n",
            "196  0.257409 -0.806848 -0.438950  0.896440  ... -1.945539  1.228573   \n",
            "197  0.469999  0.019560  0.477611 -0.428384  ... -0.675824  1.521339   \n",
            "198  0.102995  0.096199  0.378226 -0.389352  ... -1.321643  1.517133   \n",
            "199 -0.661264  0.040269  0.177360 -0.056620  ... -0.767561  0.975741   \n",
            "\n",
            "         d_92      d_93      d_94      d_95      d_96      d_97      d_98  \\\n",
            "0   -1.129827  0.065673  2.392438  0.401919  1.754292 -2.031988  0.110303   \n",
            "1    0.462150  1.901352 -0.488309  0.300509  1.376710 -0.680368 -0.496508   \n",
            "2   -1.728869  0.257427 -0.679808  1.418033  0.249733 -0.095056  1.866354   \n",
            "3   -0.852231  0.438351 -0.179391  0.771275  0.808923 -0.559569  1.052498   \n",
            "4    0.144774  0.671673  0.456473  0.311619  0.268784 -1.236218  0.588090   \n",
            "..        ...       ...       ...       ...       ...       ...       ...   \n",
            "195 -1.155015  0.981203  2.578071  1.175553  0.313487 -0.324342  0.803253   \n",
            "196  0.542578  0.997799  1.201220  0.560352  0.796868 -1.622228  0.734547   \n",
            "197 -0.405184 -0.220542  1.407984  0.322209  1.148276 -1.602976  0.449018   \n",
            "198 -0.115872 -0.272807  0.948064 -0.005104  0.785224 -0.673855  0.264025   \n",
            "199 -0.471601 -0.178754  1.273374  0.339618  0.262049 -1.108275  1.049107   \n",
            "\n",
            "         d_99  \n",
            "0   -0.366021  \n",
            "1    1.261054  \n",
            "2   -0.639240  \n",
            "3   -0.082230  \n",
            "4   -0.403095  \n",
            "..        ...  \n",
            "195  0.489916  \n",
            "196  1.000461  \n",
            "197 -0.149340  \n",
            "198  0.598484  \n",
            "199 -0.234012  \n",
            "\n",
            "[200 rows x 101 columns]\n"
          ]
        }
      ],
      "source": [
        "import pandas as pd\n",
        "from gensim.models.doc2vec import Doc2Vec, TaggedDocument\n",
        "from nltk.tokenize import word_tokenize\n",
        "import multiprocessing\n",
        "\n",
        "# Charger le DataFrame\n",
        "input_path = r\"/content/drive/MyDrive/TPE_Mon_Travail/BD2_Contenu.csv\"\n",
        "data = pd.read_csv(input_path)\n",
        "\n",
        "# Tokenization : Divisez le texte en mots\n",
        "data['tokens'] = data['contenu'].apply(lambda x: word_tokenize(x.lower()))\n",
        "\n",
        "# Créez des documents étiquetés pour Doc2Vec\n",
        "documents = [TaggedDocument(doc, [i]) for i, doc in enumerate(data['tokens'])]\n",
        "\n",
        "# Configuration de Doc2Vec\n",
        "cores = multiprocessing.cpu_count()\n",
        "model = Doc2Vec(vector_size=100,  # Taille des vecteurs de mots\n",
        "                window=5,  # Fenêtre contextuelle\n",
        "                min_count=1,  # Ignorer les mots avec une fréquence inférieure à 1\n",
        "                workers=cores,  # Nombre de cœurs CPU à utiliser\n",
        "                dm=1,  # Utiliser l'algorithme de \"Distributed Memory\"\n",
        "                dbow_words=1)  # Entraîner des vecteurs de mots\n",
        "\n",
        "# Construction du vocabulaire\n",
        "model.build_vocab(documents)\n",
        "\n",
        "# Entraînement du modèle Doc2Vec\n",
        "model.train(documents, total_examples=model.corpus_count, epochs=10)\n",
        "\n",
        "# Obtenir les vecteurs de documents\n",
        "document_vectors = [model.infer_vector(doc.words) for doc in documents]\n",
        "\n",
        "# Créez un DataFrame pour les vecteurs de documents\n",
        "vectors_df = pd.DataFrame(document_vectors, columns=[f\"d_{i}\" for i in range(model.vector_size)])\n",
        "\n",
        "# Créer un DataFrame avec la colonne \"id\"\n",
        "id_df = data[['id']]\n",
        "\n",
        "# Enregistrez le DataFrame résultant\n",
        "output_path = r\"/content/drive/MyDrive/TPE_Mon_Travail/BD2_Contenu-Doc2Vec.csv\"\n",
        "result_df = pd.concat([id_df, vectors_df], axis=1)\n",
        "result_df.to_csv(output_path, index=False)\n",
        "\n",
        "# Affichez le DataFrame résultant avec la colonne \"id\" et les vecteurs de documents\n",
        "print(result_df)\n"
      ]
    },
    {
      "cell_type": "code",
      "execution_count": null,
      "metadata": {
        "id": "3_qoaDPHPatN"
      },
      "outputs": [],
      "source": []
    },
    {
      "cell_type": "markdown",
      "metadata": {
        "id": "In5eISewANMb"
      },
      "source": [
        "**Fusion Titre et contenu**"
      ]
    },
    {
      "cell_type": "code",
      "execution_count": null,
      "metadata": {
        "colab": {
          "base_uri": "https://localhost:8080/"
        },
        "id": "EuSHcd9JoNcY",
        "outputId": "316826ce-9939-4e3c-d9cc-70f0e899b958"
      },
      "outputs": [
        {
          "name": "stdout",
          "output_type": "stream",
          "text": [
            "                   id  agent  arrière  autogir  avion  avoir  aéronef  \\\n",
            "0          F-HPTI.pdf      0        0        0      0      0        0   \n",
            "1           21AJD.pdf      0        0        0      1      0        0   \n",
            "2          F-GTPV.pdf      0        0        0      1      0        0   \n",
            "3          F-HMYY.pdf      0        0        0      0      0        0   \n",
            "4          F-GYFR.pdf      0        0        0      0      0        0   \n",
            "..                ...    ...      ...      ...    ...    ...      ...   \n",
            "195  BEA2020-0165.pdf      0        0        0      1      0        0   \n",
            "196  BEA2020-0418.pdf      0        0        0      0      0        0   \n",
            "197  BEA2019-0289.pdf      0        0        0      1      0        0   \n",
            "198  BEA2020-0373.pdf      0        0        0      2      0        0   \n",
            "199  BEA2020-0094.pdf      0        0        0      1      0        0   \n",
            "\n",
            "     balisage  ballon  blesser  ...      d_91      d_92      d_93      d_94  \\\n",
            "0           0       0        0  ...  1.899226 -1.129827  0.065673  2.392438   \n",
            "1           0       0        0  ...  2.363641  0.462150  1.901352 -0.488309   \n",
            "2           0       0        0  ...  1.699171 -1.728869  0.257427 -0.679808   \n",
            "3           0       0        0  ...  1.623744 -0.852231  0.438351 -0.179391   \n",
            "4           0       0        1  ...  0.897765  0.144774  0.671673  0.456473   \n",
            "..        ...     ...      ...  ...       ...       ...       ...       ...   \n",
            "195         0       0        1  ...  0.202233 -1.155015  0.981203  2.578071   \n",
            "196         0       1        0  ...  1.228573  0.542578  0.997799  1.201220   \n",
            "197         0       0        1  ...  1.521339 -0.405184 -0.220542  1.407984   \n",
            "198         0       0        0  ...  1.517133 -0.115872 -0.272807  0.948064   \n",
            "199         0       0        0  ...  0.975741 -0.471601 -0.178754  1.273374   \n",
            "\n",
            "         d_95      d_96      d_97      d_98      d_99  cluster  \n",
            "0    0.401919  1.754292 -2.031988  0.110303 -0.366021        0  \n",
            "1    0.300509  1.376710 -0.680368 -0.496508  1.261054        1  \n",
            "2    1.418033  0.249733 -0.095056  1.866354 -0.639240        1  \n",
            "3    0.771275  0.808924 -0.559569  1.052498 -0.082230        1  \n",
            "4    0.311619  0.268784 -1.236218  0.588090 -0.403095        2  \n",
            "..        ...       ...       ...       ...       ...      ...  \n",
            "195  1.175553  0.313487 -0.324342  0.803253  0.489916        2  \n",
            "196  0.560352  0.796868 -1.622228  0.734547  1.000461        0  \n",
            "197  0.322209  1.148276 -1.602976  0.449018 -0.149340        2  \n",
            "198 -0.005104  0.785224 -0.673855  0.264025  0.598484        1  \n",
            "199  0.339618  0.262049 -1.108275  1.049107 -0.234012        1  \n",
            "\n",
            "[200 rows x 158 columns]\n"
          ]
        }
      ],
      "source": [
        "import pandas as pd\n",
        "\n",
        "# Chemins d'accès vers les fichiers CSV\n",
        "path_bow = \"/content/drive/MyDrive/TPE_Mon_Travail/BD1-Cluster3_Title.csv\"\n",
        "path_doc2vec = \"/content/drive/MyDrive/TPE_Mon_Travail/BD2_Contenu-Doc2Vec.csv\"\n",
        "\n",
        "# Charger les deux DataFrames\n",
        "df_bow = pd.read_csv(path_bow)\n",
        "df_doc2vec = pd.read_csv(path_doc2vec)\n",
        "\n",
        "# Fusionner les deux DataFrames en fonction de la colonne \"id\"\n",
        "merged_df = df_bow.merge(df_doc2vec, on=\"id\")\n",
        "\n",
        "# Déplacer la colonne \"cluster\" à la fin du DataFrame fusionné\n",
        "cluster_column = merged_df.pop(\"cluster\")\n",
        "merged_df[\"cluster\"] = cluster_column\n",
        "\n",
        "# Enregistrer le DataFrame fusionné dans un nouveau fichier CSV\n",
        "output_path = \"/content/drive/MyDrive/TPE_Mon_Travail/BD_Fusion.csv\"\n",
        "merged_df.to_csv(output_path, index=False)\n",
        "\n",
        "# Afficher le DataFrame fusionné\n",
        "print(merged_df)\n"
      ]
    },
    {
      "cell_type": "code",
      "execution_count": null,
      "metadata": {
        "colab": {
          "base_uri": "https://localhost:8080/"
        },
        "id": "3Zev75yF2geC",
        "outputId": "41f71387-9f11-4b82-db7c-b553bfbfdcb6"
      },
      "outputs": [
        {
          "name": "stdout",
          "output_type": "stream",
          "text": [
            "                   id       d_0       d_1       d_2       d_3       d_4  \\\n",
            "0          F-HPTI.pdf  0.167122  0.425665  0.396652 -0.854497 -0.151318   \n",
            "1           21AJD.pdf -1.318398 -0.368693 -2.187209 -0.265002 -0.221460   \n",
            "2          F-GTPV.pdf  1.148462 -0.624393 -0.773549  0.509976  1.997171   \n",
            "3          F-HMYY.pdf -0.169123 -0.497370 -1.251934  0.295527 -0.023879   \n",
            "4          F-GYFR.pdf -0.221414 -1.003138 -0.527638 -1.214949 -0.998163   \n",
            "..                ...       ...       ...       ...       ...       ...   \n",
            "195  BEA2020-0165.pdf -3.783556 -2.833778 -1.002487 -1.265158 -0.832366   \n",
            "196  BEA2020-0418.pdf -1.875616 -1.048387 -1.571274 -1.695982 -2.069249   \n",
            "197  BEA2019-0289.pdf -0.091385  0.614982 -0.546277 -0.894724  0.035714   \n",
            "198  BEA2020-0373.pdf -1.382570 -0.864869 -0.803341  0.331644 -1.067545   \n",
            "199  BEA2020-0094.pdf -0.120149 -0.658675 -0.077455  0.272081  0.176849   \n",
            "\n",
            "          d_5       d_6       d_7       d_8  ...      d_91      d_92  \\\n",
            "0    1.069840 -0.658149  0.581857 -1.380702  ...  1.899226 -1.129827   \n",
            "1   -0.269777 -0.031805 -0.927879  0.270579  ...  2.363641  0.462150   \n",
            "2   -1.540675  0.768435  1.289634  2.329049  ...  1.699171 -1.728869   \n",
            "3    0.161248  0.250402  0.324523  2.483367  ...  1.623744 -0.852231   \n",
            "4   -0.536386 -0.189751  0.159666  1.082207  ...  0.897765  0.144774   \n",
            "..        ...       ...       ...       ...  ...       ...       ...   \n",
            "195 -1.289697  1.944195  0.893414 -0.849189  ...  0.202233 -1.155015   \n",
            "196  0.257409 -0.806848 -0.438950  0.896440  ...  1.228573  0.542578   \n",
            "197  0.469998  0.019560  0.477611 -0.428384  ...  1.521339 -0.405184   \n",
            "198  0.102995  0.096199  0.378226 -0.389352  ...  1.517133 -0.115872   \n",
            "199 -0.661265  0.040269  0.177360 -0.056620  ...  0.975741 -0.471601   \n",
            "\n",
            "         d_93      d_94      d_95      d_96      d_97      d_98      d_99  \\\n",
            "0    0.065673  2.392438  0.401919  1.754292 -2.031988  0.110303 -0.366021   \n",
            "1    1.901352 -0.488309  0.300509  1.376710 -0.680368 -0.496508  1.261054   \n",
            "2    0.257427 -0.679808  1.418033  0.249733 -0.095056  1.866354 -0.639240   \n",
            "3    0.438351 -0.179391  0.771275  0.808924 -0.559569  1.052498 -0.082230   \n",
            "4    0.671673  0.456473  0.311619  0.268784 -1.236218  0.588090 -0.403095   \n",
            "..        ...       ...       ...       ...       ...       ...       ...   \n",
            "195  0.981203  2.578071  1.175553  0.313487 -0.324342  0.803253  0.489916   \n",
            "196  0.997799  1.201220  0.560352  0.796868 -1.622228  0.734547  1.000461   \n",
            "197 -0.220542  1.407984  0.322209  1.148276 -1.602976  0.449018 -0.149340   \n",
            "198 -0.272807  0.948064 -0.005104  0.785224 -0.673855  0.264025  0.598484   \n",
            "199 -0.178754  1.273374  0.339618  0.262049 -1.108275  1.049107 -0.234012   \n",
            "\n",
            "     cluster  \n",
            "0          0  \n",
            "1          1  \n",
            "2          1  \n",
            "3          1  \n",
            "4          2  \n",
            "..       ...  \n",
            "195        2  \n",
            "196        0  \n",
            "197        2  \n",
            "198        1  \n",
            "199        1  \n",
            "\n",
            "[200 rows x 102 columns]\n"
          ]
        }
      ],
      "source": [
        "df_bow = pd.read_csv(path_bow)\n",
        "df_doc2vec = pd.read_csv(path_doc2vec)\n",
        "df_cluster=df_bow.drop(columns=df_bow.columns[1:-1])\n",
        "merged_df = df_cluster.merge(df_doc2vec, on=\"id\")\n",
        "\n",
        "# Déplacer la colonne \"cluster\" à la fin du DataFrame fusionné\n",
        "cluster_column = merged_df.pop(\"cluster\")\n",
        "merged_df[\"cluster\"] = cluster_column\n",
        "\n",
        "# Enregistrer le DataFrame fusionné dans un nouveau fichier CSV\n",
        "output_path = \"/content/drive/MyDrive/TPE_Mon_Travail/BD_Fusion.csv\"\n",
        "merged_df.to_csv(output_path, index=False)\n",
        "\n",
        "# Afficher le DataFrame fusionné\n",
        "print(merged_df)\n"
      ]
    },
    {
      "cell_type": "markdown",
      "metadata": {
        "id": "ScIZzfNf6nOc"
      },
      "source": [
        "**Entrainement du modèle**"
      ]
    },
    {
      "cell_type": "code",
      "execution_count": null,
      "metadata": {
        "colab": {
          "base_uri": "https://localhost:8080/",
          "height": 600
        },
        "id": "ye1bjPDLB04f",
        "outputId": "f6147433-a55c-4a87-ca80-95bf49b1dced"
      },
      "outputs": [
        {
          "data": {
            "text/html": [
              "\n",
              "  <div id=\"df-cbf6ba85-4a69-46a8-9847-416b7ee84206\" class=\"colab-df-container\">\n",
              "    <div>\n",
              "<style scoped>\n",
              "    .dataframe tbody tr th:only-of-type {\n",
              "        vertical-align: middle;\n",
              "    }\n",
              "\n",
              "    .dataframe tbody tr th {\n",
              "        vertical-align: top;\n",
              "    }\n",
              "\n",
              "    .dataframe thead th {\n",
              "        text-align: right;\n",
              "    }\n",
              "</style>\n",
              "<table border=\"1\" class=\"dataframe\">\n",
              "  <thead>\n",
              "    <tr style=\"text-align: right;\">\n",
              "      <th></th>\n",
              "      <th>id</th>\n",
              "      <th>d_0</th>\n",
              "      <th>d_1</th>\n",
              "      <th>d_2</th>\n",
              "      <th>d_3</th>\n",
              "      <th>d_4</th>\n",
              "      <th>d_5</th>\n",
              "      <th>d_6</th>\n",
              "      <th>d_7</th>\n",
              "      <th>d_8</th>\n",
              "      <th>...</th>\n",
              "      <th>d_90</th>\n",
              "      <th>d_91</th>\n",
              "      <th>d_92</th>\n",
              "      <th>d_93</th>\n",
              "      <th>d_94</th>\n",
              "      <th>d_95</th>\n",
              "      <th>d_96</th>\n",
              "      <th>d_97</th>\n",
              "      <th>d_98</th>\n",
              "      <th>d_99</th>\n",
              "    </tr>\n",
              "  </thead>\n",
              "  <tbody>\n",
              "    <tr>\n",
              "      <th>0</th>\n",
              "      <td>F-HPTI.pdf</td>\n",
              "      <td>0.167122</td>\n",
              "      <td>0.425665</td>\n",
              "      <td>0.396652</td>\n",
              "      <td>-0.854497</td>\n",
              "      <td>-0.151318</td>\n",
              "      <td>1.069840</td>\n",
              "      <td>-0.658149</td>\n",
              "      <td>0.581857</td>\n",
              "      <td>-1.380702</td>\n",
              "      <td>...</td>\n",
              "      <td>-0.532059</td>\n",
              "      <td>1.899226</td>\n",
              "      <td>-1.129827</td>\n",
              "      <td>0.065673</td>\n",
              "      <td>2.392438</td>\n",
              "      <td>0.401919</td>\n",
              "      <td>1.754292</td>\n",
              "      <td>-2.031988</td>\n",
              "      <td>0.110303</td>\n",
              "      <td>-0.366021</td>\n",
              "    </tr>\n",
              "    <tr>\n",
              "      <th>1</th>\n",
              "      <td>21AJD.pdf</td>\n",
              "      <td>-1.318398</td>\n",
              "      <td>-0.368693</td>\n",
              "      <td>-2.187209</td>\n",
              "      <td>-0.265002</td>\n",
              "      <td>-0.221460</td>\n",
              "      <td>-0.269777</td>\n",
              "      <td>-0.031805</td>\n",
              "      <td>-0.927879</td>\n",
              "      <td>0.270579</td>\n",
              "      <td>...</td>\n",
              "      <td>-2.478697</td>\n",
              "      <td>2.363641</td>\n",
              "      <td>0.462150</td>\n",
              "      <td>1.901352</td>\n",
              "      <td>-0.488309</td>\n",
              "      <td>0.300509</td>\n",
              "      <td>1.376710</td>\n",
              "      <td>-0.680368</td>\n",
              "      <td>-0.496508</td>\n",
              "      <td>1.261054</td>\n",
              "    </tr>\n",
              "    <tr>\n",
              "      <th>2</th>\n",
              "      <td>F-GTPV.pdf</td>\n",
              "      <td>1.148462</td>\n",
              "      <td>-0.624393</td>\n",
              "      <td>-0.773549</td>\n",
              "      <td>0.509976</td>\n",
              "      <td>1.997171</td>\n",
              "      <td>-1.540675</td>\n",
              "      <td>0.768435</td>\n",
              "      <td>1.289634</td>\n",
              "      <td>2.329049</td>\n",
              "      <td>...</td>\n",
              "      <td>-0.947407</td>\n",
              "      <td>1.699171</td>\n",
              "      <td>-1.728869</td>\n",
              "      <td>0.257427</td>\n",
              "      <td>-0.679808</td>\n",
              "      <td>1.418033</td>\n",
              "      <td>0.249733</td>\n",
              "      <td>-0.095056</td>\n",
              "      <td>1.866354</td>\n",
              "      <td>-0.639240</td>\n",
              "    </tr>\n",
              "    <tr>\n",
              "      <th>3</th>\n",
              "      <td>F-HMYY.pdf</td>\n",
              "      <td>-0.169123</td>\n",
              "      <td>-0.497370</td>\n",
              "      <td>-1.251934</td>\n",
              "      <td>0.295527</td>\n",
              "      <td>-0.023879</td>\n",
              "      <td>0.161248</td>\n",
              "      <td>0.250402</td>\n",
              "      <td>0.324523</td>\n",
              "      <td>2.483367</td>\n",
              "      <td>...</td>\n",
              "      <td>-1.342541</td>\n",
              "      <td>1.623744</td>\n",
              "      <td>-0.852231</td>\n",
              "      <td>0.438351</td>\n",
              "      <td>-0.179391</td>\n",
              "      <td>0.771275</td>\n",
              "      <td>0.808924</td>\n",
              "      <td>-0.559569</td>\n",
              "      <td>1.052498</td>\n",
              "      <td>-0.082230</td>\n",
              "    </tr>\n",
              "    <tr>\n",
              "      <th>4</th>\n",
              "      <td>F-GYFR.pdf</td>\n",
              "      <td>-0.221414</td>\n",
              "      <td>-1.003138</td>\n",
              "      <td>-0.527638</td>\n",
              "      <td>-1.214949</td>\n",
              "      <td>-0.998163</td>\n",
              "      <td>-0.536386</td>\n",
              "      <td>-0.189751</td>\n",
              "      <td>0.159666</td>\n",
              "      <td>1.082207</td>\n",
              "      <td>...</td>\n",
              "      <td>-1.344633</td>\n",
              "      <td>0.897765</td>\n",
              "      <td>0.144774</td>\n",
              "      <td>0.671673</td>\n",
              "      <td>0.456473</td>\n",
              "      <td>0.311619</td>\n",
              "      <td>0.268784</td>\n",
              "      <td>-1.236218</td>\n",
              "      <td>0.588090</td>\n",
              "      <td>-0.403095</td>\n",
              "    </tr>\n",
              "    <tr>\n",
              "      <th>...</th>\n",
              "      <td>...</td>\n",
              "      <td>...</td>\n",
              "      <td>...</td>\n",
              "      <td>...</td>\n",
              "      <td>...</td>\n",
              "      <td>...</td>\n",
              "      <td>...</td>\n",
              "      <td>...</td>\n",
              "      <td>...</td>\n",
              "      <td>...</td>\n",
              "      <td>...</td>\n",
              "      <td>...</td>\n",
              "      <td>...</td>\n",
              "      <td>...</td>\n",
              "      <td>...</td>\n",
              "      <td>...</td>\n",
              "      <td>...</td>\n",
              "      <td>...</td>\n",
              "      <td>...</td>\n",
              "      <td>...</td>\n",
              "      <td>...</td>\n",
              "    </tr>\n",
              "    <tr>\n",
              "      <th>195</th>\n",
              "      <td>BEA2020-0165.pdf</td>\n",
              "      <td>-3.783556</td>\n",
              "      <td>-2.833778</td>\n",
              "      <td>-1.002487</td>\n",
              "      <td>-1.265158</td>\n",
              "      <td>-0.832366</td>\n",
              "      <td>-1.289697</td>\n",
              "      <td>1.944195</td>\n",
              "      <td>0.893414</td>\n",
              "      <td>-0.849189</td>\n",
              "      <td>...</td>\n",
              "      <td>0.481557</td>\n",
              "      <td>0.202233</td>\n",
              "      <td>-1.155015</td>\n",
              "      <td>0.981203</td>\n",
              "      <td>2.578071</td>\n",
              "      <td>1.175553</td>\n",
              "      <td>0.313487</td>\n",
              "      <td>-0.324342</td>\n",
              "      <td>0.803253</td>\n",
              "      <td>0.489916</td>\n",
              "    </tr>\n",
              "    <tr>\n",
              "      <th>196</th>\n",
              "      <td>BEA2020-0418.pdf</td>\n",
              "      <td>-1.875616</td>\n",
              "      <td>-1.048387</td>\n",
              "      <td>-1.571274</td>\n",
              "      <td>-1.695982</td>\n",
              "      <td>-2.069249</td>\n",
              "      <td>0.257409</td>\n",
              "      <td>-0.806848</td>\n",
              "      <td>-0.438950</td>\n",
              "      <td>0.896440</td>\n",
              "      <td>...</td>\n",
              "      <td>-1.945539</td>\n",
              "      <td>1.228573</td>\n",
              "      <td>0.542578</td>\n",
              "      <td>0.997799</td>\n",
              "      <td>1.201220</td>\n",
              "      <td>0.560352</td>\n",
              "      <td>0.796868</td>\n",
              "      <td>-1.622228</td>\n",
              "      <td>0.734547</td>\n",
              "      <td>1.000461</td>\n",
              "    </tr>\n",
              "    <tr>\n",
              "      <th>197</th>\n",
              "      <td>BEA2019-0289.pdf</td>\n",
              "      <td>-0.091385</td>\n",
              "      <td>0.614982</td>\n",
              "      <td>-0.546277</td>\n",
              "      <td>-0.894724</td>\n",
              "      <td>0.035714</td>\n",
              "      <td>0.469998</td>\n",
              "      <td>0.019560</td>\n",
              "      <td>0.477611</td>\n",
              "      <td>-0.428384</td>\n",
              "      <td>...</td>\n",
              "      <td>-0.675824</td>\n",
              "      <td>1.521339</td>\n",
              "      <td>-0.405184</td>\n",
              "      <td>-0.220542</td>\n",
              "      <td>1.407984</td>\n",
              "      <td>0.322209</td>\n",
              "      <td>1.148276</td>\n",
              "      <td>-1.602976</td>\n",
              "      <td>0.449018</td>\n",
              "      <td>-0.149340</td>\n",
              "    </tr>\n",
              "    <tr>\n",
              "      <th>198</th>\n",
              "      <td>BEA2020-0373.pdf</td>\n",
              "      <td>-1.382570</td>\n",
              "      <td>-0.864869</td>\n",
              "      <td>-0.803341</td>\n",
              "      <td>0.331644</td>\n",
              "      <td>-1.067545</td>\n",
              "      <td>0.102995</td>\n",
              "      <td>0.096199</td>\n",
              "      <td>0.378226</td>\n",
              "      <td>-0.389352</td>\n",
              "      <td>...</td>\n",
              "      <td>-1.321643</td>\n",
              "      <td>1.517133</td>\n",
              "      <td>-0.115872</td>\n",
              "      <td>-0.272807</td>\n",
              "      <td>0.948064</td>\n",
              "      <td>-0.005104</td>\n",
              "      <td>0.785224</td>\n",
              "      <td>-0.673855</td>\n",
              "      <td>0.264025</td>\n",
              "      <td>0.598484</td>\n",
              "    </tr>\n",
              "    <tr>\n",
              "      <th>199</th>\n",
              "      <td>BEA2020-0094.pdf</td>\n",
              "      <td>-0.120149</td>\n",
              "      <td>-0.658675</td>\n",
              "      <td>-0.077455</td>\n",
              "      <td>0.272081</td>\n",
              "      <td>0.176849</td>\n",
              "      <td>-0.661265</td>\n",
              "      <td>0.040269</td>\n",
              "      <td>0.177360</td>\n",
              "      <td>-0.056620</td>\n",
              "      <td>...</td>\n",
              "      <td>-0.767561</td>\n",
              "      <td>0.975741</td>\n",
              "      <td>-0.471601</td>\n",
              "      <td>-0.178754</td>\n",
              "      <td>1.273374</td>\n",
              "      <td>0.339618</td>\n",
              "      <td>0.262049</td>\n",
              "      <td>-1.108275</td>\n",
              "      <td>1.049107</td>\n",
              "      <td>-0.234012</td>\n",
              "    </tr>\n",
              "  </tbody>\n",
              "</table>\n",
              "<p>200 rows × 101 columns</p>\n",
              "</div>\n",
              "    <div class=\"colab-df-buttons\">\n",
              "\n",
              "  <div class=\"colab-df-container\">\n",
              "    <button class=\"colab-df-convert\" onclick=\"convertToInteractive('df-cbf6ba85-4a69-46a8-9847-416b7ee84206')\"\n",
              "            title=\"Convert this dataframe to an interactive table.\"\n",
              "            style=\"display:none;\">\n",
              "\n",
              "  <svg xmlns=\"http://www.w3.org/2000/svg\" height=\"24px\" viewBox=\"0 -960 960 960\">\n",
              "    <path d=\"M120-120v-720h720v720H120Zm60-500h600v-160H180v160Zm220 220h160v-160H400v160Zm0 220h160v-160H400v160ZM180-400h160v-160H180v160Zm440 0h160v-160H620v160ZM180-180h160v-160H180v160Zm440 0h160v-160H620v160Z\"/>\n",
              "  </svg>\n",
              "    </button>\n",
              "\n",
              "  <style>\n",
              "    .colab-df-container {\n",
              "      display:flex;\n",
              "      gap: 12px;\n",
              "    }\n",
              "\n",
              "    .colab-df-convert {\n",
              "      background-color: #E8F0FE;\n",
              "      border: none;\n",
              "      border-radius: 50%;\n",
              "      cursor: pointer;\n",
              "      display: none;\n",
              "      fill: #1967D2;\n",
              "      height: 32px;\n",
              "      padding: 0 0 0 0;\n",
              "      width: 32px;\n",
              "    }\n",
              "\n",
              "    .colab-df-convert:hover {\n",
              "      background-color: #E2EBFA;\n",
              "      box-shadow: 0px 1px 2px rgba(60, 64, 67, 0.3), 0px 1px 3px 1px rgba(60, 64, 67, 0.15);\n",
              "      fill: #174EA6;\n",
              "    }\n",
              "\n",
              "    .colab-df-buttons div {\n",
              "      margin-bottom: 4px;\n",
              "    }\n",
              "\n",
              "    [theme=dark] .colab-df-convert {\n",
              "      background-color: #3B4455;\n",
              "      fill: #D2E3FC;\n",
              "    }\n",
              "\n",
              "    [theme=dark] .colab-df-convert:hover {\n",
              "      background-color: #434B5C;\n",
              "      box-shadow: 0px 1px 3px 1px rgba(0, 0, 0, 0.15);\n",
              "      filter: drop-shadow(0px 1px 2px rgba(0, 0, 0, 0.3));\n",
              "      fill: #FFFFFF;\n",
              "    }\n",
              "  </style>\n",
              "\n",
              "    <script>\n",
              "      const buttonEl =\n",
              "        document.querySelector('#df-cbf6ba85-4a69-46a8-9847-416b7ee84206 button.colab-df-convert');\n",
              "      buttonEl.style.display =\n",
              "        google.colab.kernel.accessAllowed ? 'block' : 'none';\n",
              "\n",
              "      async function convertToInteractive(key) {\n",
              "        const element = document.querySelector('#df-cbf6ba85-4a69-46a8-9847-416b7ee84206');\n",
              "        const dataTable =\n",
              "          await google.colab.kernel.invokeFunction('convertToInteractive',\n",
              "                                                    [key], {});\n",
              "        if (!dataTable) return;\n",
              "\n",
              "        const docLinkHtml = 'Like what you see? Visit the ' +\n",
              "          '<a target=\"_blank\" href=https://colab.research.google.com/notebooks/data_table.ipynb>data table notebook</a>'\n",
              "          + ' to learn more about interactive tables.';\n",
              "        element.innerHTML = '';\n",
              "        dataTable['output_type'] = 'display_data';\n",
              "        await google.colab.output.renderOutput(dataTable, element);\n",
              "        const docLink = document.createElement('div');\n",
              "        docLink.innerHTML = docLinkHtml;\n",
              "        element.appendChild(docLink);\n",
              "      }\n",
              "    </script>\n",
              "  </div>\n",
              "\n",
              "\n",
              "<div id=\"df-aa143bb4-56ca-4645-ac18-007511721a08\">\n",
              "  <button class=\"colab-df-quickchart\" onclick=\"quickchart('df-aa143bb4-56ca-4645-ac18-007511721a08')\"\n",
              "            title=\"Suggest charts\"\n",
              "            style=\"display:none;\">\n",
              "\n",
              "<svg xmlns=\"http://www.w3.org/2000/svg\" height=\"24px\"viewBox=\"0 0 24 24\"\n",
              "     width=\"24px\">\n",
              "    <g>\n",
              "        <path d=\"M19 3H5c-1.1 0-2 .9-2 2v14c0 1.1.9 2 2 2h14c1.1 0 2-.9 2-2V5c0-1.1-.9-2-2-2zM9 17H7v-7h2v7zm4 0h-2V7h2v10zm4 0h-2v-4h2v4z\"/>\n",
              "    </g>\n",
              "</svg>\n",
              "  </button>\n",
              "\n",
              "<style>\n",
              "  .colab-df-quickchart {\n",
              "      --bg-color: #E8F0FE;\n",
              "      --fill-color: #1967D2;\n",
              "      --hover-bg-color: #E2EBFA;\n",
              "      --hover-fill-color: #174EA6;\n",
              "      --disabled-fill-color: #AAA;\n",
              "      --disabled-bg-color: #DDD;\n",
              "  }\n",
              "\n",
              "  [theme=dark] .colab-df-quickchart {\n",
              "      --bg-color: #3B4455;\n",
              "      --fill-color: #D2E3FC;\n",
              "      --hover-bg-color: #434B5C;\n",
              "      --hover-fill-color: #FFFFFF;\n",
              "      --disabled-bg-color: #3B4455;\n",
              "      --disabled-fill-color: #666;\n",
              "  }\n",
              "\n",
              "  .colab-df-quickchart {\n",
              "    background-color: var(--bg-color);\n",
              "    border: none;\n",
              "    border-radius: 50%;\n",
              "    cursor: pointer;\n",
              "    display: none;\n",
              "    fill: var(--fill-color);\n",
              "    height: 32px;\n",
              "    padding: 0;\n",
              "    width: 32px;\n",
              "  }\n",
              "\n",
              "  .colab-df-quickchart:hover {\n",
              "    background-color: var(--hover-bg-color);\n",
              "    box-shadow: 0 1px 2px rgba(60, 64, 67, 0.3), 0 1px 3px 1px rgba(60, 64, 67, 0.15);\n",
              "    fill: var(--button-hover-fill-color);\n",
              "  }\n",
              "\n",
              "  .colab-df-quickchart-complete:disabled,\n",
              "  .colab-df-quickchart-complete:disabled:hover {\n",
              "    background-color: var(--disabled-bg-color);\n",
              "    fill: var(--disabled-fill-color);\n",
              "    box-shadow: none;\n",
              "  }\n",
              "\n",
              "  .colab-df-spinner {\n",
              "    border: 2px solid var(--fill-color);\n",
              "    border-color: transparent;\n",
              "    border-bottom-color: var(--fill-color);\n",
              "    animation:\n",
              "      spin 1s steps(1) infinite;\n",
              "  }\n",
              "\n",
              "  @keyframes spin {\n",
              "    0% {\n",
              "      border-color: transparent;\n",
              "      border-bottom-color: var(--fill-color);\n",
              "      border-left-color: var(--fill-color);\n",
              "    }\n",
              "    20% {\n",
              "      border-color: transparent;\n",
              "      border-left-color: var(--fill-color);\n",
              "      border-top-color: var(--fill-color);\n",
              "    }\n",
              "    30% {\n",
              "      border-color: transparent;\n",
              "      border-left-color: var(--fill-color);\n",
              "      border-top-color: var(--fill-color);\n",
              "      border-right-color: var(--fill-color);\n",
              "    }\n",
              "    40% {\n",
              "      border-color: transparent;\n",
              "      border-right-color: var(--fill-color);\n",
              "      border-top-color: var(--fill-color);\n",
              "    }\n",
              "    60% {\n",
              "      border-color: transparent;\n",
              "      border-right-color: var(--fill-color);\n",
              "    }\n",
              "    80% {\n",
              "      border-color: transparent;\n",
              "      border-right-color: var(--fill-color);\n",
              "      border-bottom-color: var(--fill-color);\n",
              "    }\n",
              "    90% {\n",
              "      border-color: transparent;\n",
              "      border-bottom-color: var(--fill-color);\n",
              "    }\n",
              "  }\n",
              "</style>\n",
              "\n",
              "  <script>\n",
              "    async function quickchart(key) {\n",
              "      const quickchartButtonEl =\n",
              "        document.querySelector('#' + key + ' button');\n",
              "      quickchartButtonEl.disabled = true;  // To prevent multiple clicks.\n",
              "      quickchartButtonEl.classList.add('colab-df-spinner');\n",
              "      try {\n",
              "        const charts = await google.colab.kernel.invokeFunction(\n",
              "            'suggestCharts', [key], {});\n",
              "      } catch (error) {\n",
              "        console.error('Error during call to suggestCharts:', error);\n",
              "      }\n",
              "      quickchartButtonEl.classList.remove('colab-df-spinner');\n",
              "      quickchartButtonEl.classList.add('colab-df-quickchart-complete');\n",
              "    }\n",
              "    (() => {\n",
              "      let quickchartButtonEl =\n",
              "        document.querySelector('#df-aa143bb4-56ca-4645-ac18-007511721a08 button');\n",
              "      quickchartButtonEl.style.display =\n",
              "        google.colab.kernel.accessAllowed ? 'block' : 'none';\n",
              "    })();\n",
              "  </script>\n",
              "</div>\n",
              "\n",
              "  <div id=\"id_328b6712-2122-4094-a350-570bcfe47537\">\n",
              "    <style>\n",
              "      .colab-df-generate {\n",
              "        background-color: #E8F0FE;\n",
              "        border: none;\n",
              "        border-radius: 50%;\n",
              "        cursor: pointer;\n",
              "        display: none;\n",
              "        fill: #1967D2;\n",
              "        height: 32px;\n",
              "        padding: 0 0 0 0;\n",
              "        width: 32px;\n",
              "      }\n",
              "\n",
              "      .colab-df-generate:hover {\n",
              "        background-color: #E2EBFA;\n",
              "        box-shadow: 0px 1px 2px rgba(60, 64, 67, 0.3), 0px 1px 3px 1px rgba(60, 64, 67, 0.15);\n",
              "        fill: #174EA6;\n",
              "      }\n",
              "\n",
              "      [theme=dark] .colab-df-generate {\n",
              "        background-color: #3B4455;\n",
              "        fill: #D2E3FC;\n",
              "      }\n",
              "\n",
              "      [theme=dark] .colab-df-generate:hover {\n",
              "        background-color: #434B5C;\n",
              "        box-shadow: 0px 1px 3px 1px rgba(0, 0, 0, 0.15);\n",
              "        filter: drop-shadow(0px 1px 2px rgba(0, 0, 0, 0.3));\n",
              "        fill: #FFFFFF;\n",
              "      }\n",
              "    </style>\n",
              "    <button class=\"colab-df-generate\" onclick=\"generateWithVariable('df_doc2vec')\"\n",
              "            title=\"Generate code using this dataframe.\"\n",
              "            style=\"display:none;\">\n",
              "\n",
              "  <svg xmlns=\"http://www.w3.org/2000/svg\" height=\"24px\"viewBox=\"0 0 24 24\"\n",
              "       width=\"24px\">\n",
              "    <path d=\"M7,19H8.4L18.45,9,17,7.55,7,17.6ZM5,21V16.75L18.45,3.32a2,2,0,0,1,2.83,0l1.4,1.43a1.91,1.91,0,0,1,.58,1.4,1.91,1.91,0,0,1-.58,1.4L9.25,21ZM18.45,9,17,7.55Zm-12,3A5.31,5.31,0,0,0,4.9,8.1,5.31,5.31,0,0,0,1,6.5,5.31,5.31,0,0,0,4.9,4.9,5.31,5.31,0,0,0,6.5,1,5.31,5.31,0,0,0,8.1,4.9,5.31,5.31,0,0,0,12,6.5,5.46,5.46,0,0,0,6.5,12Z\"/>\n",
              "  </svg>\n",
              "    </button>\n",
              "    <script>\n",
              "      (() => {\n",
              "      const buttonEl =\n",
              "        document.querySelector('#id_328b6712-2122-4094-a350-570bcfe47537 button.colab-df-generate');\n",
              "      buttonEl.style.display =\n",
              "        google.colab.kernel.accessAllowed ? 'block' : 'none';\n",
              "\n",
              "      buttonEl.onclick = () => {\n",
              "        google.colab.notebook.generateWithVariable('df_doc2vec');\n",
              "      }\n",
              "      })();\n",
              "    </script>\n",
              "  </div>\n",
              "\n",
              "    </div>\n",
              "  </div>\n"
            ],
            "text/plain": [
              "                   id       d_0       d_1       d_2       d_3       d_4  \\\n",
              "0          F-HPTI.pdf  0.167122  0.425665  0.396652 -0.854497 -0.151318   \n",
              "1           21AJD.pdf -1.318398 -0.368693 -2.187209 -0.265002 -0.221460   \n",
              "2          F-GTPV.pdf  1.148462 -0.624393 -0.773549  0.509976  1.997171   \n",
              "3          F-HMYY.pdf -0.169123 -0.497370 -1.251934  0.295527 -0.023879   \n",
              "4          F-GYFR.pdf -0.221414 -1.003138 -0.527638 -1.214949 -0.998163   \n",
              "..                ...       ...       ...       ...       ...       ...   \n",
              "195  BEA2020-0165.pdf -3.783556 -2.833778 -1.002487 -1.265158 -0.832366   \n",
              "196  BEA2020-0418.pdf -1.875616 -1.048387 -1.571274 -1.695982 -2.069249   \n",
              "197  BEA2019-0289.pdf -0.091385  0.614982 -0.546277 -0.894724  0.035714   \n",
              "198  BEA2020-0373.pdf -1.382570 -0.864869 -0.803341  0.331644 -1.067545   \n",
              "199  BEA2020-0094.pdf -0.120149 -0.658675 -0.077455  0.272081  0.176849   \n",
              "\n",
              "          d_5       d_6       d_7       d_8  ...      d_90      d_91  \\\n",
              "0    1.069840 -0.658149  0.581857 -1.380702  ... -0.532059  1.899226   \n",
              "1   -0.269777 -0.031805 -0.927879  0.270579  ... -2.478697  2.363641   \n",
              "2   -1.540675  0.768435  1.289634  2.329049  ... -0.947407  1.699171   \n",
              "3    0.161248  0.250402  0.324523  2.483367  ... -1.342541  1.623744   \n",
              "4   -0.536386 -0.189751  0.159666  1.082207  ... -1.344633  0.897765   \n",
              "..        ...       ...       ...       ...  ...       ...       ...   \n",
              "195 -1.289697  1.944195  0.893414 -0.849189  ...  0.481557  0.202233   \n",
              "196  0.257409 -0.806848 -0.438950  0.896440  ... -1.945539  1.228573   \n",
              "197  0.469998  0.019560  0.477611 -0.428384  ... -0.675824  1.521339   \n",
              "198  0.102995  0.096199  0.378226 -0.389352  ... -1.321643  1.517133   \n",
              "199 -0.661265  0.040269  0.177360 -0.056620  ... -0.767561  0.975741   \n",
              "\n",
              "         d_92      d_93      d_94      d_95      d_96      d_97      d_98  \\\n",
              "0   -1.129827  0.065673  2.392438  0.401919  1.754292 -2.031988  0.110303   \n",
              "1    0.462150  1.901352 -0.488309  0.300509  1.376710 -0.680368 -0.496508   \n",
              "2   -1.728869  0.257427 -0.679808  1.418033  0.249733 -0.095056  1.866354   \n",
              "3   -0.852231  0.438351 -0.179391  0.771275  0.808924 -0.559569  1.052498   \n",
              "4    0.144774  0.671673  0.456473  0.311619  0.268784 -1.236218  0.588090   \n",
              "..        ...       ...       ...       ...       ...       ...       ...   \n",
              "195 -1.155015  0.981203  2.578071  1.175553  0.313487 -0.324342  0.803253   \n",
              "196  0.542578  0.997799  1.201220  0.560352  0.796868 -1.622228  0.734547   \n",
              "197 -0.405184 -0.220542  1.407984  0.322209  1.148276 -1.602976  0.449018   \n",
              "198 -0.115872 -0.272807  0.948064 -0.005104  0.785224 -0.673855  0.264025   \n",
              "199 -0.471601 -0.178754  1.273374  0.339618  0.262049 -1.108275  1.049107   \n",
              "\n",
              "         d_99  \n",
              "0   -0.366021  \n",
              "1    1.261054  \n",
              "2   -0.639240  \n",
              "3   -0.082230  \n",
              "4   -0.403095  \n",
              "..        ...  \n",
              "195  0.489916  \n",
              "196  1.000461  \n",
              "197 -0.149340  \n",
              "198  0.598484  \n",
              "199 -0.234012  \n",
              "\n",
              "[200 rows x 101 columns]"
            ]
          },
          "execution_count": 49,
          "metadata": {},
          "output_type": "execute_result"
        }
      ],
      "source": [
        "df_doc2vec"
      ]
    },
    {
      "cell_type": "code",
      "execution_count": null,
      "metadata": {
        "colab": {
          "base_uri": "https://localhost:8080/"
        },
        "id": "c9fDtuki6v5L",
        "outputId": "3de7f4c3-90aa-42a9-df2b-133917a95f2d"
      },
      "outputs": [
        {
          "name": "stdout",
          "output_type": "stream",
          "text": [
            "(200, 102)\n",
            "(200, 100)\n",
            "(200,)\n",
            "Exactitude du modèle : 0.5\n",
            "Rapport de classification :\n",
            "               precision    recall  f1-score   support\n",
            "\n",
            "           0       0.40      0.31      0.35        13\n",
            "           1       0.59      0.77      0.67        13\n",
            "           2       0.46      0.43      0.44        14\n",
            "\n",
            "    accuracy                           0.50        40\n",
            "   macro avg       0.48      0.50      0.49        40\n",
            "weighted avg       0.48      0.50      0.49        40\n",
            "\n",
            "Prédictions :\n",
            "      Vraie valeur  Prédiction\n",
            "95              0           2\n",
            "15              1           1\n",
            "30              0           2\n",
            "158             2           0\n",
            "128             0           2\n",
            "115             1           1\n",
            "69              1           0\n",
            "170             0           0\n",
            "174             1           1\n",
            "45              2           1\n",
            "66              1           0\n",
            "182             2           2\n",
            "165             1           1\n",
            "78              2           1\n",
            "186             1           1\n",
            "177             2           2\n",
            "56              0           0\n",
            "152             2           2\n",
            "82              1           1\n",
            "68              0           2\n",
            "124             0           0\n",
            "16              0           2\n",
            "148             2           0\n",
            "93              0           2\n",
            "65              1           0\n",
            "60              1           1\n",
            "84              0           0\n",
            "67              2           1\n",
            "125             1           1\n",
            "132             2           1\n",
            "9               1           1\n",
            "18              2           2\n",
            "55              0           1\n",
            "75              0           2\n",
            "150             2           2\n",
            "104             2           1\n",
            "135             2           0\n",
            "137             2           2\n",
            "164             0           1\n",
            "76              1           1\n"
          ]
        }
      ],
      "source": [
        "import pandas as pd\n",
        "from sklearn.model_selection import train_test_split\n",
        "from sklearn.neighbors import KNeighborsClassifier\n",
        "from sklearn.metrics import accuracy_score, classification_report\n",
        "\n",
        "# Chemin vers le fichier CSV (assurez-vous de spécifier le chemin correct)\n",
        "#csv_file_path = \"/content/drive/MyDrive/TPE_Mon_Travail/BD_Fusion.csv\"\n",
        "\n",
        "# Lire le fichier CSV en utilisant pandas\n",
        "#data = pd.read_csv(csv_file_path, encoding='utf-8')\n",
        "data=merged_df\n",
        "print(data.shape)\n",
        "\n",
        "# Séparer les caractéristiques (X) de la variable cible (y)\n",
        "X = data.values[:,1:-1]\n",
        "y = data[\"cluster\"]\n",
        "print(X.shape)\n",
        "print(y.shape)\n",
        "\n",
        "# Diviser les données en ensembles d'entraînement et de test\n",
        "X_train, X_test, y_train, y_test = train_test_split(X, y, test_size=0.2, random_state=42)\n",
        "\n",
        "# Créer une instance du modèle KNeighborsClassifier (KNN) avec k=3\n",
        "knn = KNeighborsClassifier(n_neighbors=3)\n",
        "\n",
        "# Entraîner le modèle KNN sur l'ensemble d'entraînement\n",
        "knn.fit(X_train, y_train)\n",
        "\n",
        "# Faire des prédictions sur l'ensemble de test\n",
        "y_pred = knn.predict(X_test)\n",
        "\n",
        "# Calculer l'exactitude du modèle\n",
        "accuracy = accuracy_score(y_test, y_pred)\n",
        "print(f\"Exactitude du modèle : {accuracy}\")\n",
        "\n",
        "# Afficher le rapport de classification\n",
        "class_report = classification_report(y_test, y_pred)\n",
        "print(\"Rapport de classification :\\n\", class_report)\n",
        "\n",
        "# Sauvegarder les prédictions dans un fichier CSV\n",
        "predictions_df = pd.DataFrame({'Vraie valeur': y_test, 'Prédiction': y_pred})\n",
        "predictions_csv_path = \"/content/drive/MyDrive/TPE_Mon_Travail/predictions_knn.csv\"\n",
        "predictions_df.to_csv(predictions_csv_path, index=False)\n",
        "\n",
        "# Afficher les prédictions\n",
        "print(\"Prédictions :\\n\", predictions_df)\n"
      ]
    }
  ],
  "metadata": {
    "accelerator": "TPU",
    "colab": {
      "provenance": []
    },
    "kernelspec": {
      "display_name": "Python 3",
      "name": "python3"
    },
    "language_info": {
      "name": "python"
    }
  },
  "nbformat": 4,
  "nbformat_minor": 0
}
